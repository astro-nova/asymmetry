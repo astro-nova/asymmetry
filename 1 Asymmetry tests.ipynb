{
 "cells": [
  {
   "cell_type": "markdown",
   "id": "7eeee8b0-688d-437a-b68e-dbec11d9cd7c",
   "metadata": {},
   "source": [
    "# Asymmetry tests\n",
    "\n",
    "Hypothesis: the absolute value in the definition of asymmetry is **problematic**. CAS asymmetry is defined as:\n",
    "\n",
    "$$ A = \\frac{\\sum |f - f^{180}|}{\\sum |f| } - A_{bg}$$\n",
    "\n",
    "where \n",
    "\n",
    "$$ A_{bg} = \\frac{n_{obj}}{n_{sky}} \\frac{\\sum |f_{sky} - f_{sky}^{180}|}{\\sum |f|}$$\n",
    "\n",
    "so to expand, asymmetry is calculated as\n",
    "\n",
    "$$ A = \\frac{\\sum |f - f^{180}| - \\frac{n_{img}}{n_{sky}} \\sum |f_{sky} - f_{sky}^{180}|}{\\sum |f| } $$\n",
    "\n",
    "This definition has a dependence on the noise, and therefore simply subtracting the background term doesn't account for all the noise in the image. The absolute value adds a correlation between the source asymmetry and the background term, even for a Gaussian background. If we used squared residuals rather than absolute residuals, this would not be a problem.\n",
    "\n",
    "Changes to asymmetry that we test here:\n",
    "\n",
    "1. Replace the residual calculation from absolute value to *squared*, which has a separable noise contribution\n",
    "2. Add a correction term in the denominator that accounts for the contribution of BG flux to total\n",
    "3. Change the initial guess for asymmetry center from center of flux to center of flux$^2$ for better performance\n",
    "\n",
    "#### Imports"
   ]
  },
  {
   "cell_type": "code",
   "execution_count": 1,
   "id": "1d605433-de38-48c6-bf58-c051fb99b2e5",
   "metadata": {},
   "outputs": [],
   "source": [
    "import numpy as np\n",
    "import matplotlib.pyplot as plt\n",
    "import galsim\n",
    "\n",
    "from asymmetry import get_asymmetry"
   ]
  },
  {
   "cell_type": "markdown",
   "id": "cf334c9a-e81c-4a0f-a212-e9ff8f0e37c6",
   "metadata": {},
   "source": [
    "## Create SDSS-like image\n",
    "\n",
    "Utility function to make an SDSS-like image using [**GalSim**](https://github.com/GalSim-developers/GalSim) and `galaxy_generator.py` functions.\n",
    "\n",
    "Arguments:\n",
    "\n",
    "* `mag`: source magnitude\n",
    "* `sky_mag`: sky surface brightness in mag/arcsec$^2$\n",
    "* `r_eff`: \n",
    "\n",
    "**<font color='#aa33ff'>Questions:</font>**\n",
    "\n",
    "1. How are telescope and transmission parameters defined?"
   ]
  },
  {
   "cell_type": "code",
   "execution_count": null,
   "id": "e2933f74-4ff5-49d9-add4-24fa2a647549",
   "metadata": {},
   "outputs": [],
   "source": [
    "def make_sdss_galaxy(mag, sky_mag, re):\n",
    "    \n",
    "    filt = 'r'\n",
    "    bandpass_file = \"passband_sdss_\" + Filter\n",
    "    bandpass = galsim.Bandpass(bandpass_file, wave_type = u.angstrom)\n",
    "\n",
    "    telescope_params = {'g':4.8, 't_exp':53.91, 'D':2.5}\n",
    "    transmission_params = {'eff_wav':616.5, 'del_wav':137}\n",
    "\n",
    "mag = 13\n",
    "sky_mag = 22 ##mag/arcsec/arcsec\n",
    "re = 10 #arcsec\n",
    "\n",
    "galaxy = gen_galaxy(mag, re=re, n=1, q=1, beta=0, psf_sig=2, telescope_params=telescope_params, \n",
    "\ttransmission_params=transmission_params, bandpass=bandpass)\n",
    "\n",
    "centre_ra = 150\n",
    "centre_dec = 2.3\n",
    "pixel_scale = 0.4\n",
    "fov = re*12/3600 #deg\n",
    "\n",
    "\n",
    "image, wcs = gen_image(galaxy, centre_ra, centre_dec, pixel_scale, fov, fov)\n",
    "\n",
    "rp = petrosian_sersic(fov, re, 1)/pixel_scale  ##in pixels\n",
    "\n",
    "\n",
    "image = add_asymmetry(image, rp, 12, 2.0,  mag, telescope_params, transmission_params, bandpass)\n",
    "\n",
    "# after Poisson noise is added, change to ADU by dividing by gain\n",
    "image = sky_noise(image, sky_mag, pixel_scale, telescope_params, transmission_params, bandpass)/telescope_params['g']\n",
    "\n",
    "\n",
    "\n"
   ]
  }
 ],
 "metadata": {
  "kernelspec": {
   "display_name": "Python 3 (ipykernel)",
   "language": "python",
   "name": "python3"
  },
  "language_info": {
   "codemirror_mode": {
    "name": "ipython",
    "version": 3
   },
   "file_extension": ".py",
   "mimetype": "text/x-python",
   "name": "python",
   "nbconvert_exporter": "python",
   "pygments_lexer": "ipython3",
   "version": "3.9.16"
  }
 },
 "nbformat": 4,
 "nbformat_minor": 5
}
