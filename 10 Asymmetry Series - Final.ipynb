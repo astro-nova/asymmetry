{
 "cells": [
  {
   "cell_type": "markdown",
   "id": "c48955be-e9a7-4008-ad4c-8b8abf9a3d4b",
   "metadata": {},
   "source": [
    "# Asymmetry test series\n",
    "\n",
    "For the paper, for each measurement, generate plots of how the asymmetry measurement depends on \n",
    "1) Signal-to-noise\n",
    "2) Pixel scale\n",
    "3) PSF FWHM\n",
    "\n",
    "Keeping all other parameters constant. For constant values, choose:\n",
    "\n",
    "* Pixel scale: 0.1\" (about 180pc at z=0.1, 300pc at z=0.2)\n",
    "* PSF FWHM: 0.8\" (good ground-based seeing)\n",
    "* Noise level: 25 mag/arcsec$^2$ (pretty deep imaging)\n",
    "\n",
    "\n",
    "#### Imports"
   ]
  },
  {
   "cell_type": "code",
   "execution_count": 1,
   "id": "1d6814cd-c454-48d7-8184-aeaf8f469af9",
   "metadata": {},
   "outputs": [],
   "source": [
    "%reload_ext autoreload\n",
    "%autoreload 2\n",
    "\n",
    "from tqdm.notebook import tqdm\n",
    "import numpy as np\n",
    "import pandas as pd\n",
    "import matplotlib.pyplot as plt\n",
    "from galaxy_generator import get_galaxy_rng_vals, get_augmentation_rng_vals, simulate_perfect_galaxy, add_source_to_image, sky_noise\n",
    "from asymmetry import get_asymmetry, fourier_deconvolve\n",
    "from astropy.convolution import Gaussian2DKernel\n",
    "from astropy.stats import sigma_clipped_stats, gaussian_fwhm_to_sigma\n",
    "from photutils import aperture\n",
    "\n",
    "seed = 48\n",
    "perfect_pxscale = 0.1\n",
    "std_mag = 30\n",
    "std_psf_fwhm = 0.3\n",
    "std_pxscale = 0.1\n",
    "ap_frac = 1.5\n",
    "\n",
    "convolve_nyquist = True"
   ]
  },
  {
   "cell_type": "code",
   "execution_count": 2,
   "id": "c3d71005-4b7a-45f9-b72c-9b6d1465bd23",
   "metadata": {},
   "outputs": [],
   "source": [
    "plt.rcParams['font.size'] = 10\n",
    "plt.rcParams['xtick.minor.size'] = 1"
   ]
  },
  {
   "cell_type": "markdown",
   "id": "ff3c1a1f-4607-4ece-9741-9a02a4238fc8",
   "metadata": {},
   "source": [
    "## Generating a galaxy\n",
    "\n",
    "We use a single galaxy for all the plots here, generated with the same set of parameters. "
   ]
  },
  {
   "cell_type": "code",
   "execution_count": 3,
   "id": "77cdea58-68c6-4955-b458-44b59cc58d82",
   "metadata": {},
   "outputs": [
    {
     "data": {
      "image/png": "[encoded data removed]",
      "text/plain": [
       "<Figure size 250x250 with 1 Axes>"
      ]
     },
     "metadata": {},
     "output_type": "display_data"
    }
   ],
   "source": [
    "params = get_galaxy_rng_vals(1, seed=seed)[0]\n",
    "img_perfect, galaxy_dict, r_pet = simulate_perfect_galaxy(pxscale=perfect_pxscale,  **params)\n",
    "img_perfect = add_source_to_image(**galaxy_dict, psf_fwhm=3*perfect_pxscale, pxscale=perfect_pxscale, psf_method='astropy')\n",
    "\n",
    "plt.imshow(-2.5*np.log10(img_perfect/perfect_pxscale**2) + 33, vmin=17, vmax=27, cmap='gray_r')\n",
    "plt.axis('off');"
   ]
  },
  {
   "cell_type": "code",
   "execution_count": 4,
   "id": "3c604ca1-5861-436d-80dc-643d2840b0a4",
   "metadata": {},
   "outputs": [],
   "source": [
    "### def augment(pxscale, psf_fwhm, sky_mag):\n",
    "    \n",
    "#     img_lowres, out_dict, r_pet = simulate_perfect_galaxy(pxscale=pxscale, **params)\n",
    "#     img_psf = add_source_to_image(**out_dict, psf_fwhm=psf_fwhm, pxscale=pxscale, psf_method='astropy')\n",
    "#     img_noisy, sky_flux = sky_noise(img_psf, sky_mag=sky_mag, pixel_scale=pxscale, rms_noise=True)\n",
    "#     return img_noisy, img_lowres"
   ]
  },
  {
   "cell_type": "code",
   "execution_count": 5,
   "id": "bc572e49-2039-4bde-985d-e33d716085f0",
   "metadata": {},
   "outputs": [],
   "source": [
    "# plt.imshow(-2.5*np.log10(img_noisy/perfect_pxscale**2) + 33, vmin=17, vmax=27, cmap='gray_r')"
   ]
  },
  {
   "cell_type": "markdown",
   "id": "c25b716e-3889-4623-989b-c0c69743abbc",
   "metadata": {},
   "source": [
    "#### Aside: deconvolution\n",
    "Test deconvolution:"
   ]
  },
  {
   "cell_type": "code",
   "execution_count": 6,
   "id": "cde7ab6d-d033-45b8-8eaf-3ec2d0e13369",
   "metadata": {},
   "outputs": [],
   "source": [
    "# from numpy import fft\n",
    "# from asymmetry import _fit_snr\n",
    "\n",
    "# def fourier_deconvolve2(img, psf, noise, pxscale, convolve_nyquist=False):\n",
    "\n",
    "#     # img = np.pad(img, (20,20))\n",
    "#     # psf = np.pad(psf, (20,20))\n",
    "\n",
    "#     # Transform the image and the PSF\n",
    "#     img_fft = fft.fft2(img)\n",
    "#     psf_fft = fft.fft2(fft.ifftshift(psf))\n",
    "    \n",
    "#     noise_fft = np.median(np.abs(img_fft))\n",
    "#     # noise_fft = noise * img_fft.shape[0] \n",
    "\n",
    "#     # Get the SNR\n",
    "#     snr = fit_snr2(img_fft, noise_fft)\n",
    "\n",
    "#     # If True, convolve down to Nyquist frequency\n",
    "#     if convolve_nyquist:\n",
    "#         nyquist_psf = Gaussian2DKernel(2, x_size=img.shape[1], y_size=img.shape[0])\n",
    "#         nyquist_fft = fft.fft2(fft.ifftshift(nyquist_psf))\n",
    "#     else:\n",
    "#         nyquist_fft = 1\n",
    "        \n",
    "#     # Deconvolve\n",
    "#     H_sq = np.power((1 + 1/snr), 2) / np.power((np.abs(psf_fft) + 1/snr), 2)\n",
    "#     H = np.sqrt(H_sq)\n",
    "    \n",
    "#     # H = (nyquist_fft + 1/snr) / (psf_fft + 1/snr)\n",
    "#     img_corr = img_fft * H\n",
    "\n",
    "#     # Do an inverse transform\n",
    "#     img_deconv = np.real(fft.ifft2(img_corr))\n",
    "\n",
    "#     # img_deconv = img_deconv[20:-20, 20:-20]\n",
    "#     return img_deconv"
   ]
  },
  {
   "cell_type": "code",
   "execution_count": 7,
   "id": "6d2c10ec-44b3-4e34-8a9e-cb1c250433b2",
   "metadata": {},
   "outputs": [],
   "source": [
    "# from scipy.interpolate import griddata\n",
    "# def fit_snr2(img_fft, noise_fft, snr_thresh=3, quant_thresh=0.98):\n",
    "#     \"\"\"Given an FFT of an image and a noise level, estimate SNR(omega)\n",
    "#     by interpolating high SNR regions and setting high-frequency SNR to 1k less than SNR max.\n",
    "#     \"\"\"\n",
    "    \n",
    "\n",
    "#     # Calculate from the image SNR\n",
    "#     snr = np.abs(img_fft) / noise_fft\n",
    "#     snr_min = np.log10(np.max(snr)) - 4  # Minimum SNR is 100000 times dimmer than the center\n",
    "    \n",
    "#     # Only look at one quarter of the array (FFT is reflected along x and y)\n",
    "#     xc = int(img_fft.shape[0]/2)\n",
    "#     snr_corner = snr[:xc, :xc]\n",
    "    \n",
    "#     # Image x, y arrays as placeholders\n",
    "#     xs = np.arange(xc+1)\n",
    "#     XS, YS = np.meshgrid(xs, xs)\n",
    "    \n",
    "#     # Choose indices where SNR is high \n",
    "#     snr_lim = np.quantile(snr_corner, quant_thresh)\n",
    "#     snr_lim = np.max([snr_lim, snr_thresh])\n",
    "#     good_ids = np.nonzero(snr_corner > snr_lim)\n",
    "#     good_log_snr = np.log10(snr_corner[good_ids])\n",
    "    \n",
    "#     # Select regions dominated by noise and set their SNR to snr_min\n",
    "#     noise_ids = np.nonzero(snr_corner < 1)   \n",
    "#     noise_log_snr = snr_min*np.ones(len(noise_ids[0]))\n",
    "\n",
    "#     # SNR array to interpolate\n",
    "#     log_snr = np.concatenate((good_log_snr, noise_log_snr))\n",
    "#     snr_ids = np.hstack((good_ids, noise_ids))\n",
    "#     snr_ids = (snr_ids[0], snr_ids[1])\n",
    "#     xs = XS[snr_ids]\n",
    "#     ys = YS[snr_ids]\n",
    "\n",
    "#     # Add a low SNR at highest frequency edges to help interpolation\n",
    "#     boundaries = np.arange(xc+1)\n",
    "#     xs = np.concatenate((xs, np.ones_like(boundaries)*(xc+1), boundaries))\n",
    "#     ys = np.concatenate((ys, boundaries, np.ones_like(boundaries)*(xc+1)))\n",
    "#     log_snr = np.concatenate((log_snr, snr_min*np.ones_like(boundaries), snr_min*np.ones_like(boundaries)))\n",
    "\n",
    "#     # Interpolate\n",
    "#     snr_grid = griddata((xs, ys), log_snr, (XS, YS), method='linear')\n",
    "    \n",
    "\n",
    "#     # Expand the grid (corner) back to the original shape by doubling in X and Y\n",
    "#     j = -1 \n",
    "#     k = -1 if (snr.shape[0] % 2 == 1) else -2\n",
    "#     fit_snr = np.ones_like(snr)\n",
    "#     fit_snr[:xc,:xc] = snr_grid[:j, :j]\n",
    "#     fit_snr[xc:,:xc] = snr_grid[k::-1, :j]\n",
    "#     fit_snr[:xc,xc:] = snr_grid[:j, k::-1]\n",
    "#     fit_snr[xc:,xc:] = snr_grid[k::-1, k::-1]\n",
    "    \n",
    "#     # Undo the log\n",
    "#     fit_snr = np.power(10, fit_snr)\n",
    "\n",
    "#     # Rewrite the good SNR regions with real values\n",
    "#     good_ids = np.nonzero(snr > snr_lim)\n",
    "#     fit_snr[good_ids] = snr[good_ids]\n",
    "    \n",
    "#     return fit_snr"
   ]
  },
  {
   "cell_type": "code",
   "execution_count": 8,
   "id": "e6866c3d-c3a9-4b7e-8425-a9a0e56d8006",
   "metadata": {},
   "outputs": [],
   "source": [
    "# pxscale = 0.2\n",
    "# psf_fwhm = 3\n",
    "# psf_std = psf_fwhm * gaussian_fwhm_to_sigma \n",
    "# sky_mag = 30\n",
    "\n",
    "# img_noisy, img_lowres = augment(pxscale, psf_fwhm, sky_mag)\n",
    "# # psf_nyquiest = Gaussian2DKernel(\n",
    "# psf = Gaussian2DKernel(psf_std/pxscale, x_size=img_noisy.shape[1], y_size=img_noisy.shape[0]).array\n",
    "# _, bgsd, _ = sigma_clipped_stats(img_noisy)\n",
    "# bgsd = 1.6\n",
    "\n",
    "# img_deconv = fourier_deconvolve2(img_noisy, psf, bgsd, 0.3, False)"
   ]
  },
  {
   "cell_type": "code",
   "execution_count": 9,
   "id": "9de6676f-c79d-4ada-aa07-985662e55442",
   "metadata": {},
   "outputs": [],
   "source": [
    "# fig, axs = plt.subplots(1,3,figsize=(7.53, 2.5))\n",
    "\n",
    "# axs[0].imshow(((img_deconv)/pxscale**2), vmin=0, vmax=5e5, cmap='gray')\n",
    "# axs[1].imshow(((img_noisy)/pxscale**2), vmin=0, vmax=5e5, cmap='gray')\n",
    "# axs[2].imshow(((img_lowres)/pxscale**2) , vmin=0, vmax=5e5, cmap='gray')\n",
    "\n",
    "# for ax in axs:\n",
    "#     ax.axis('off')\n",
    "    \n",
    "# plt.subplots_adjust(wspace=0.01)"
   ]
  },
  {
   "cell_type": "code",
   "execution_count": 10,
   "id": "73123e90-8936-4b31-b335-2a0f47ab88a7",
   "metadata": {},
   "outputs": [],
   "source": [
    "# fig, axs = plt.subplots(1,3,figsize=(7.53, 2.5))\n",
    "\n",
    "# axs[0].imshow(-2.5*np.log10(np.abs(img_deconv)/pxscale**2) + 33, vmin=17, vmax=27, cmap='gray_r')\n",
    "# axs[1].imshow(-2.5*np.log10(np.abs(img_noisy)/pxscale**2) + 33, vmin=17, vmax=27, cmap='gray_r')\n",
    "# axs[2].imshow(-2.5*np.log10(np.abs(img_lowres)/pxscale**2) + 33, vmin=17, vmax=27, cmap='gray_r')\n",
    "\n",
    "# for ax in axs:\n",
    "#     ax.axis('off')\n",
    "    \n",
    "# plt.subplots_adjust(wspace=0.01)"
   ]
  },
  {
   "cell_type": "markdown",
   "id": "610e5b28-7489-484e-a05f-4789b8d0c26d",
   "metadata": {},
   "source": [
    "## Calculating asymmetry\n",
    "\n",
    "Calculate 4 different asymmetry measurements:\n",
    "\n",
    "* CAS |A|\n",
    "* Corrected CAS |A|\n",
    "* $A^2$\n",
    "* Fourier $A^2$\n",
    "\n",
    "For a given galaxy"
   ]
  },
  {
   "cell_type": "code",
   "execution_count": 11,
   "id": "edad57b2-8c0f-4d55-b366-9f75abe1f333",
   "metadata": {},
   "outputs": [],
   "source": [
    "def get_asymmetry_measurements(img_obs, pxscale, ap_frac=1.5):\n",
    "    \n",
    "    #### Calculate noisy asymmetries\n",
    "    a_cas, _ = get_asymmetry(img_obs, ap_frac*r_pet/pxscale, a_type='cas', sky_type='annulus', bg_corr='residual', sky_annulus=[2, 3])\n",
    "    a_cas_corr, _ = get_asymmetry(img_obs, ap_frac*r_pet/pxscale, a_type='cas_corr', sky_type='annulus', bg_corr='residual', sky_annulus=[2, 3])\n",
    "    a_sq, _ = get_asymmetry(img_obs, ap_frac*r_pet/pxscale, a_type='squared', sky_type='annulus', bg_corr='full', sky_annulus=[2, 3])\n",
    "    \n",
    "    ##### Store output\n",
    "    output = {\n",
    "        'a_cas' : a_cas, 'a_cas_cor' : a_cas_corr, \n",
    "        'a_sq' : a_sq,\n",
    "    }\n",
    "    \n",
    "    return output\n",
    "    "
   ]
  },
  {
   "cell_type": "markdown",
   "id": "3cb73733-e15d-43dc-b52f-92f6233d8009",
   "metadata": {},
   "source": [
    "### Real asymmetry"
   ]
  },
  {
   "cell_type": "code",
   "execution_count": 12,
   "id": "efb3fb8d-3991-4870-bf73-dd1d5f888d42",
   "metadata": {},
   "outputs": [
    {
     "name": "stdout",
     "output_type": "stream",
     "text": [
      "0.7460147718482902 0.9179554178760501\n"
     ]
    }
   ],
   "source": [
    "a_cas_real, _ = get_asymmetry(img_perfect, ap_frac*r_pet/perfect_pxscale, a_type='cas', sky_type='annulus', bg_corr='residual', sky_annulus=[2, 3])\n",
    "a_sq_real, xc = get_asymmetry(img_perfect, ap_frac*r_pet/perfect_pxscale, a_type='squared', sky_type='annulus', bg_corr='full', sky_annulus=[2, 3])\n",
    "\n",
    "print(a_cas_real, a_sq_real)"
   ]
  },
  {
   "cell_type": "markdown",
   "id": "67518d53-12e0-4ae8-bba5-ef081bba5e44",
   "metadata": {},
   "source": [
    "## Noise dependence\n",
    "\n",
    "We use the same set-up as for all other tests, but for these test series, only test on a single galaxy. Make a realization with one seed so we know it's always the same if the kernel is refreshed\n",
    "\n",
    "* Generate a galaxy with the perfect pixel scale, no PSF\n",
    "* Generate 5 noise iterations each time\n"
   ]
  },
  {
   "cell_type": "code",
   "execution_count": null,
   "id": "5aacf79f-366b-4f03-b286-10255444da2f",
   "metadata": {
    "tags": []
   },
   "outputs": [
    {
     "data": {
      "application/vnd.jupyter.widget-view+json": {
       "model_id": "c99e3a3043374ffe9cf7ec2da5547f6e",
       "version_major": 2,
       "version_minor": 0
      },
      "text/plain": [
       "  0%|          | 0/15 [00:00<?, ?it/s]"
      ]
     },
     "metadata": {},
     "output_type": "display_data"
    }
   ],
   "source": [
    "sky_mags = np.linspace(20, 28, 15)\n",
    "n_sims = 10\n",
    "\n",
    "dicts = []\n",
    "imgs_snr = []\n",
    "\n",
    "for mag in tqdm(sky_mags):\n",
    "    for n in range(n_sims):\n",
    "        \n",
    "        img_noisy, sky_flux = sky_noise(img_perfect, sky_mag=mag, pxscale=perfect_pxscale, rms_noise=True)\n",
    "        out = get_asymmetry_measurements(img_noisy, perfect_pxscale)\n",
    "        \n",
    "        # Get SNR/pixel\n",
    "        noise_arr = np.sqrt( (img_perfect) + sky_flux**2 )\n",
    "        ap = aperture.CircularAperture(xc, ap_frac*r_pet/perfect_pxscale)\n",
    "        snr = ap.do_photometry(img_noisy)[0][0]/ap.do_photometry(noise_arr)[0][0] \n",
    "        \n",
    "        out['mag'] = mag\n",
    "        out['n'] = n\n",
    "        out['snr'] = snr\n",
    "        imgs_snr.append(img_noisy)\n",
    "        \n",
    "        dicts.append(out)\n",
    "sky_mags_df = pd.DataFrame(dicts)"
   ]
  },
  {
   "cell_type": "markdown",
   "id": "ed83995a-8b29-40ab-b43f-b24263599628",
   "metadata": {},
   "source": [
    "### CAS asymmetry "
   ]
  },
  {
   "cell_type": "code",
   "execution_count": null,
   "id": "cc636231-018d-41d9-bd46-ef4f368fb923",
   "metadata": {},
   "outputs": [],
   "source": [
    "plt.rcParams['font.size'] = 10\n",
    "plt.rcParams['xtick.minor.size'] = 1.5\n",
    "plt.rcParams['ytick.minor.size'] = 1.5"
   ]
  },
  {
   "cell_type": "code",
   "execution_count": 60,
   "id": "78566296-5bd7-4ff9-8cdd-3b0fa018148f",
   "metadata": {},
   "outputs": [
    {
     "data": {
      "text/plain": [
       "Text(0.5, 0, '$\\\\langle$SNR$\\\\rangle$')"
      ]
     },
     "execution_count": 60,
     "metadata": {},
     "output_type": "execute_result"
    },
    {
     "data": {
      "image/png": "[encoded data removed]",
      "text/plain": [
       "<Figure size 350x180 with 2 Axes>"
      ]
     },
     "metadata": {},
     "output_type": "display_data"
    }
   ],
   "source": [
    "plt.figure(figsize=(3.5,1.8))\n",
    "ax = plt.axes()\n",
    "ax_snr = ax.twiny()\n",
    "\n",
    "# Data points\n",
    "ax.scatter(sky_mags_df.mag, sky_mags_df.a_cas, color='k', s=10)\n",
    "\n",
    "# Median\n",
    "qs = sky_mags_df.groupby(by='mag').quantile(q=[0.16, 0.5, 0.84])\n",
    "ax.plot(sky_mags, qs.xs(0.5, level=1).a_cas, color='C9')\n",
    "ax.fill_between(sky_mags, qs.xs(0.16, level=1).a_cas, qs.xs(0.84, level=1).a_cas, color='C9', alpha=0.2)\n",
    "ax.axhline(a_cas_real, color='k', lw=0.5)\n",
    "\n",
    "# Annotations\n",
    "ax.annotate('True |A|', xy=(19.7, a_cas_real+0.005), size=10, ha='left', va='bottom')\n",
    "\n",
    "# SNR ticks\n",
    "ax_snr.set_xticks(sky_mags[::2])\n",
    "ax_snr.set_xticklabels([f'{x:0.1f}' for x in sky_mags_df.snr[::2]])\n",
    "\n",
    "# Limits\n",
    "ax.set_xlim(19.51, 28.49)\n",
    "ax_snr.set_xlim(19.51, 28.49)\n",
    "ax.set_ylim(0.01, 0.91)\n",
    "ax.set_ylabel('CAS |A|')\n",
    "ax.set_xlabel(r'1$\\sigma$ sky brightness [mag/arcsec$^2$]')\n",
    "ax_snr.set_xlabel(r'$\\langle$SNR$\\rangle$', labelpad=10)\n",
    "\n",
    "# plt.savefig('figures/paper/cas_a_snr.pdf', bbox_inches='tight')"
   ]
  },
  {
   "cell_type": "markdown",
   "id": "8874c65e-02f3-45f0-9130-0c19c20eec45",
   "metadata": {},
   "source": [
    "### Corrected CAS"
   ]
  },
  {
   "cell_type": "code",
   "execution_count": 149,
   "id": "b8dee43a-46c0-4c59-a661-2d3f4905b34e",
   "metadata": {},
   "outputs": [
    {
     "data": {
      "image/png": "[encoded data removed]",
      "text/plain": [
       "<Figure size 350x180 with 2 Axes>"
      ]
     },
     "metadata": {},
     "output_type": "display_data"
    }
   ],
   "source": [
    "plt.figure(figsize=(3.5,1.8))\n",
    "ax = plt.axes()\n",
    "ax_snr = ax.twiny()\n",
    "\n",
    "# Data points\n",
    "ax.scatter(sky_mags_df.mag, sky_mags_df.a_cas_cor, color='k', s=10)\n",
    "\n",
    "# Median\n",
    "qs = sky_mags_df.groupby(by='mag').quantile(q=[0.16, 0.5, 0.84])\n",
    "ax.plot(sky_mags, qs.xs(0.5, level=1).a_cas_cor, color='C9')\n",
    "ax.fill_between(sky_mags, qs.xs(0.16, level=1).a_cas_cor, qs.xs(0.84, level=1).a_cas_cor, color='C9', alpha=0.2)\n",
    "ax.axhline(a_cas_real, color='k', lw=0.5)\n",
    "\n",
    "ax.plot(sky_mags, qs.xs(0.5, level=1).a_cas, color='k', alpha=0.1)\n",
    "ax.fill_between(sky_mags, qs.xs(0.16, level=1).a_cas, qs.xs(0.84, level=1).a_cas, color='k', alpha=0.1)\n",
    "\n",
    "# Annotations\n",
    "ax.annotate('True |A|', xy=(19.7, a_cas_real+0.005), size=10, ha='left', va='bottom')\n",
    "\n",
    "# SNR ticks\n",
    "ax_snr.set_xticks(sky_mags[::2])\n",
    "ax_snr.set_xticklabels([f'{x:0.1f}' for x in sky_mags_df.snr[::40]])\n",
    "\n",
    "# Limits\n",
    "ax.set_xlim(19.51, 28.49)\n",
    "ax_snr.set_xlim(19.51, 28.49)\n",
    "ax.set_ylim(0.01, 0.81)\n",
    "ax.set_ylabel('CAS |A|')\n",
    "ax.set_xlabel(r'1$\\sigma$ sky brightness [mag/arcsec$^2$]')\n",
    "ax_snr.set_xlabel(r'$\\langle$SNR$\\rangle$', labelpad=10)\n",
    "\n",
    "plt.savefig('figures/paper/cas_a_corr_snr.pdf', bbox_inches='tight')"
   ]
  },
  {
   "cell_type": "markdown",
   "id": "5f8f3e26-00ba-4ba2-9e69-0ac8699eb617",
   "metadata": {},
   "source": [
    "### Squared"
   ]
  },
  {
   "cell_type": "code",
   "execution_count": 100,
   "id": "5460b23c-7805-4661-8759-d1844630a512",
   "metadata": {},
   "outputs": [],
   "source": [
    "sky_mags_df['a_sq_root'] = np.sqrt(sky_mags_df.a_sq/10)"
   ]
  },
  {
   "cell_type": "code",
   "execution_count": 107,
   "id": "bd31ef6f-e9a7-4bf5-bdad-df7d9f5878ed",
   "metadata": {},
   "outputs": [
    {
     "data": {
      "image/png": "[encoded data removed]",
      "text/plain": [
       "<Figure size 350x180 with 2 Axes>"
      ]
     },
     "metadata": {},
     "output_type": "display_data"
    }
   ],
   "source": [
    "plt.figure(figsize=(3.5,1.8))\n",
    "ax = plt.axes()\n",
    "ax_snr = ax.twiny()\n",
    "\n",
    "# Data points\n",
    "ax.scatter(sky_mags_df.mag, sky_mags_df.a_sq_root, color='k', s=10)\n",
    "\n",
    "# Median\n",
    "qs = sky_mags_df.groupby(by='mag').quantile(q=[0.16, 0.5, 0.84])\n",
    "ax.plot(sky_mags, qs.xs(0.5, level=1).a_sq_root, color='C9')\n",
    "ax.fill_between(sky_mags, qs.xs(0.16, level=1).a_sq_root, qs.xs(0.84, level=1).a_sq_root, color='C9', alpha=0.2)\n",
    "ax.axhline(np.sqrt(a_sq_real/10), color='k', lw=0.5)\n",
    "\n",
    "# Annotations\n",
    "ax.annotate(r'True $\\sqrt{A^2}$', xy=(19.8, np.sqrt(a_sq_real/10)-0.05), size=10, ha='left', va='top')\n",
    "\n",
    "# SNR ticks\n",
    "ax_snr.set_xticks(sky_mags[::2])\n",
    "ax_snr.set_xticklabels([f'{x:0.1f}' for x in sky_mags_df.snr[::40]])\n",
    "\n",
    "# Limits\n",
    "ax.set_xlim(19.51, 28.49)\n",
    "ax_snr.set_xlim(19.51, 28.49)\n",
    "ax.set_ylim(0.01, 1.49)\n",
    "ax.set_ylabel(r'$\\sqrt{A^2}$')\n",
    "ax.set_xlabel(r'1$\\sigma$ sky brightness [mag/arcsec$^2$]')\n",
    "ax_snr.set_xlabel(r'$\\langle$SNR$\\rangle$', labelpad=10)\n",
    "\n",
    "plt.savefig('figures/paper/sq_a_snr.pdf', bbox_inches='tight')"
   ]
  },
  {
   "cell_type": "markdown",
   "id": "a32732f1-990d-431f-9749-c4252bbe357e",
   "metadata": {},
   "source": [
    "## PSF dependence\n",
    "\n",
    "* Same pixel scale as for the perfect image\n",
    "* Standard amount of noise (deep image, 28 mag/arcsec$^2$)\n",
    "* PSF FWHM varying from 0.3 to 2 arcsec"
   ]
  },
  {
   "cell_type": "code",
   "execution_count": 14,
   "id": "55aabfda-e353-421c-abcc-4189c6de1d3b",
   "metadata": {},
   "outputs": [
    {
     "data": {
      "application/vnd.jupyter.widget-view+json": {
       "model_id": "bda0c0f356ee4aaeb61cf276e5ce6335",
       "version_major": 2,
       "version_minor": 0
      },
      "text/plain": [
       "  0%|          | 0/15 [00:00<?, ?it/s]"
      ]
     },
     "metadata": {},
     "output_type": "display_data"
    }
   ],
   "source": [
    "psf_fwhms = np.linspace(0.2, 2, 15)\n",
    "n_sims = 1\n",
    "\n",
    "dicts = []\n",
    "imgs_psf = []\n",
    "for fwhm in tqdm(psf_fwhms):\n",
    "    for n in range(n_sims):\n",
    "        img_psf = add_source_to_image(**galaxy_dict, psf_fwhm=fwhm, pxscale=perfect_pxscale, psf_method='astropy')\n",
    "        img_noisy, sky_flux = sky_noise(img_psf, sky_mag=std_mag, pixel_scale=perfect_pxscale, rms_noise=True)\n",
    "        out = get_asymmetry_measurements(img_noisy, perfect_pxscale)\n",
    "\n",
    "        out['fwhm'] = fwhm\n",
    "        out['n'] = n\n",
    "        \n",
    "        imgs_psf.append(img_noisy)\n",
    "        dicts.append(out)\n",
    "        \n",
    "psf_df = pd.DataFrame(dicts)"
   ]
  },
  {
   "cell_type": "markdown",
   "id": "74340bd8-1ff4-42b7-99e3-dac9fed8b83f",
   "metadata": {},
   "source": [
    "#### CAS asymmetry"
   ]
  },
  {
   "cell_type": "code",
   "execution_count": 70,
   "id": "d8335dbe-18b4-4324-b018-55778c467250",
   "metadata": {},
   "outputs": [
    {
     "data": {
      "image/png": "[encoded data removed]",
      "text/plain": [
       "<Figure size 350x180 with 1 Axes>"
      ]
     },
     "metadata": {},
     "output_type": "display_data"
    }
   ],
   "source": [
    "plt.figure(figsize=(3.5,1.8))\n",
    "ax = plt.axes()\n",
    "\n",
    "# Data points\n",
    "ax.scatter(psf_df.fwhm, psf_df.a_cas, color='k', s=30)\n",
    "ax.plot(psf_fwhms, psf_df.a_cas, color='C9')\n",
    "\n",
    "# Annotations\n",
    "ax.annotate('True |A|', xy=(0.16, a_cas_real+0.005), size=10, ha='left', va='bottom')\n",
    "ax.axhline(a_cas_real, color='k', lw=0.5)\n",
    "\n",
    "\n",
    "# Limits\n",
    "ax.set_xlim(0.11, 2.11)\n",
    "ax_snr.set_xlim(19.51, 28.49)\n",
    "ax.set_ylim(0.01, 0.81)\n",
    "ax.set_ylabel('CAS |A|')\n",
    "ax.set_xlabel(r'PSF FWHM [arcsec]')\n",
    "# ax_snr.set_xlabel(r'$\\langle$SNR$\\rangle$', labelpad=10)\n",
    "\n",
    "plt.savefig('figures/paper/cas_a_psf.pdf', bbox_inches='tight')"
   ]
  },
  {
   "cell_type": "markdown",
   "id": "1e0baa71-52f9-4b5f-9e99-100fc701dcc1",
   "metadata": {},
   "source": [
    "#### Corrected CAS"
   ]
  },
  {
   "cell_type": "code",
   "execution_count": 114,
   "id": "df3d3509-ba61-429b-aa75-9031554b1340",
   "metadata": {},
   "outputs": [
    {
     "data": {
      "image/png": "[encoded data removed]",
      "text/plain": [
       "<Figure size 350x180 with 1 Axes>"
      ]
     },
     "metadata": {},
     "output_type": "display_data"
    }
   ],
   "source": [
    "plt.figure(figsize=(3.5,1.8))\n",
    "ax = plt.axes()\n",
    "\n",
    "# Data points\n",
    "ax.scatter(psf_df.fwhm, psf_df.a_cas_cor, color='k', s=30)\n",
    "ax.plot(psf_fwhms, psf_df.a_cas_cor, color='C9')\n",
    "\n",
    "# Annotations\n",
    "ax.annotate('True |A|', xy=(0.16, a_cas_real+0.005), size=10, ha='left', va='bottom')\n",
    "ax.axhline(a_cas_real, color='k', lw=0.5)\n",
    "\n",
    "\n",
    "# Limits\n",
    "ax.set_xlim(0.11, 2.11)\n",
    "ax_snr.set_xlim(19.51, 28.49)\n",
    "ax.set_ylim(0.01, 0.81)\n",
    "ax.set_ylabel('CAS |A|')\n",
    "ax.set_xlabel(r'PSF FWHM [arcsec]')\n",
    "# ax_snr.set_xlabel(r'$\\langle$SNR$\\rangle$', labelpad=10)\n",
    "\n",
    "plt.savefig('figures/paper/cas_a_corr_psf.pdf', bbox_inches='tight')"
   ]
  },
  {
   "cell_type": "markdown",
   "id": "d0c454c5-c285-460d-8064-a555caf5df1f",
   "metadata": {},
   "source": [
    "### Squared "
   ]
  },
  {
   "cell_type": "code",
   "execution_count": 115,
   "id": "f9b01ef5-b595-45c4-975d-0d4fbf688ae4",
   "metadata": {},
   "outputs": [
    {
     "data": {
      "image/png": "[encoded data removed]",
      "text/plain": [
       "<Figure size 350x180 with 1 Axes>"
      ]
     },
     "metadata": {},
     "output_type": "display_data"
    }
   ],
   "source": [
    "psf_df['a_sq_root'] = np.sqrt(psf_df.a_sq/10)\n",
    "\n",
    "plt.figure(figsize=(3.5,1.8))\n",
    "ax = plt.axes()\n",
    "\n",
    "# Data points\n",
    "ax.scatter(psf_df.fwhm, psf_df.a_sq_root, color='k', s=30)\n",
    "ax.plot(psf_fwhms, psf_df.a_sq_root, color='C9')\n",
    "\n",
    "# Annotations\n",
    "ax.annotate(r'True $\\sqrt{A^2}$', xy=(0.16, np.sqrt(a_sq_real/10)+0.005), size=10, ha='left', va='bottom')\n",
    "ax.axhline(np.sqrt(a_sq_real/10), color='k', lw=0.5)\n",
    "\n",
    "\n",
    "# Limits\n",
    "ax.set_xlim(0.11, 2.11)\n",
    "ax_snr.set_xlim(19.51, 28.49)\n",
    "ax.set_ylim(0.01, 1.49)\n",
    "ax.set_ylabel(r'$\\sqrt{A^2}$')\n",
    "ax.set_xlabel(r'PSF FWHM [arcsec]')\n",
    "# ax_snr.set_xlabel(r'$\\langle$SNR$\\rangle$', labelpad=10)\n",
    "\n",
    "plt.savefig('figures/paper/a_sq_psf.pdf', bbox_inches='tight')"
   ]
  },
  {
   "cell_type": "markdown",
   "id": "440f3a32-bd2e-4335-824e-7d9aaca095fe",
   "metadata": {},
   "source": [
    "## Pixel scale dependence"
   ]
  },
  {
   "cell_type": "code",
   "execution_count": 28,
   "id": "bb1a8acf-f0d8-4d1b-a571-383f36d88cef",
   "metadata": {},
   "outputs": [
    {
     "data": {
      "application/vnd.jupyter.widget-view+json": {
       "model_id": "4667ebaf836146498224fc07a57f19da",
       "version_major": 2,
       "version_minor": 0
      },
      "text/plain": [
       "  0%|          | 0/15 [00:00<?, ?it/s]"
      ]
     },
     "metadata": {},
     "output_type": "display_data"
    }
   ],
   "source": [
    "pxscales = np.linspace(0.168, 1, 15)\n",
    "n_sims = 10\n",
    "\n",
    "dicts = []\n",
    "imgs_px = []\n",
    "\n",
    "for px in tqdm(pxscales):\n",
    "    for n in range(n_sims):\n",
    "        \n",
    "        img_lowres, out_dict, r_pet = simulate_perfect_galaxy(pxscale=px, **params)\n",
    "        img_psf = add_source_to_image(**out_dict, psf_fwhm=0, pxscale=px, psf_method='astropy')\n",
    "        img_noisy, sky_flux = sky_noise(img_psf, sky_mag=std_mag, pixel_scale=px, rms_noise=True)\n",
    "        out = get_asymmetry_measurements(img_noisy, px)\n",
    "        imgs_px.append(img_noisy)\n",
    "        out['pxscale'] = px\n",
    "        out['n'] = n\n",
    "        \n",
    "        dicts.append(out)\n",
    "px_df = pd.DataFrame(dicts)"
   ]
  },
  {
   "cell_type": "code",
   "execution_count": 73,
   "id": "83ad0c2f-6ef6-4f5a-ad94-aabda6dd5bbb",
   "metadata": {},
   "outputs": [],
   "source": [
    "# fig, axs = plt.subplots(3, int(len(pxscales)/3), figsize=(1*len(pxscales)/3, 1*3))\n",
    "# axs = axs.flatten()\n",
    "\n",
    "# for im, ax, px in zip(imgs_px[::10], axs, pxscales):\n",
    "#     ax.imshow(-2.5*np.log10(np.abs(im)/px**2) + 33, vmin=17, vmax=28, cmap='gray_r')\n",
    "#     ax.axis('off')\n",
    "# plt.subplots_adjust(wspace=0.01, hspace=0.01)"
   ]
  },
  {
   "cell_type": "markdown",
   "id": "f1f0ed07-cbc8-445f-99c8-2e0f94e149fc",
   "metadata": {},
   "source": [
    "### CAS asymmetry"
   ]
  },
  {
   "cell_type": "code",
   "execution_count": 124,
   "id": "e2980fb9-27ec-4862-8c10-3620765f7cb4",
   "metadata": {},
   "outputs": [
    {
     "data": {
      "image/png": "[encoded data removed]",
      "text/plain": [
       "<Figure size 350x180 with 1 Axes>"
      ]
     },
     "metadata": {},
     "output_type": "display_data"
    }
   ],
   "source": [
    "plt.figure(figsize=(3.5,1.8))\n",
    "ax = plt.axes()\n",
    "\n",
    "# Data points\n",
    "ax.scatter(px_df.pxscale, px_df.a_cas, color='k', s=10)\n",
    "\n",
    "# Median\n",
    "qs = px_df.groupby(by='pxscale').quantile(q=[0.16, 0.5, 0.84])\n",
    "ax.plot(pxscales, qs.xs(0.5, level=1).a_cas, color='C9')\n",
    "ax.fill_between(pxscales, qs.xs(0.16, level=1).a_cas, qs.xs(0.84, level=1).a_cas, color='C9', alpha=0.2)\n",
    "ax.axhline(a_cas_real, color='k', lw=0.5)\n",
    "\n",
    "# Annotations\n",
    "ax.annotate('True |A|', xy=(0.19, a_cas_real+0.005), size=10, ha='left', va='bottom')\n",
    "\n",
    "# Limits\n",
    "# ax.set_xlim(19.51, 28.49)\n",
    "ax.set_ylim(0.01, 0.81)\n",
    "ax.set_ylabel('CAS |A|')\n",
    "ax.set_xlabel(r'Pixel scale [arcsec]')\n",
    "\n",
    "plt.savefig('figures/paper/cas_a_px.pdf', bbox_inches='tight')"
   ]
  },
  {
   "cell_type": "markdown",
   "id": "8e009041-965f-49a8-81e3-9469d509e497",
   "metadata": {},
   "source": [
    "#### Corrected CAS"
   ]
  },
  {
   "cell_type": "code",
   "execution_count": 123,
   "id": "da9cedbb-9b09-4c8e-9182-b64667dbf5c5",
   "metadata": {},
   "outputs": [
    {
     "data": {
      "image/png": "[encoded data removed]",
      "text/plain": [
       "<Figure size 350x180 with 1 Axes>"
      ]
     },
     "metadata": {},
     "output_type": "display_data"
    }
   ],
   "source": [
    "plt.figure(figsize=(3.5,1.8))\n",
    "ax = plt.axes()\n",
    "\n",
    "# Data points\n",
    "ax.scatter(px_df.pxscale, px_df.a_cas_cor, color='k', s=10)\n",
    "\n",
    "# Median\n",
    "qs = px_df.groupby(by='pxscale').quantile(q=[0.16, 0.5, 0.84])\n",
    "ax.plot(pxscales, qs.xs(0.5, level=1).a_cas_cor, color='C9')\n",
    "ax.fill_between(pxscales, qs.xs(0.16, level=1).a_cas_cor, qs.xs(0.84, level=1).a_cas_cor, color='C9', alpha=0.2)\n",
    "ax.axhline(a_cas_real, color='k', lw=0.5)\n",
    "\n",
    "# Annotations\n",
    "ax.annotate('True |A|', xy=(0.19, a_cas_real+0.005), size=10, ha='left', va='bottom')\n",
    "\n",
    "# Limits\n",
    "# ax.set_xlim(19.51, 28.49)\n",
    "ax.set_ylim(0.01, 0.81)\n",
    "ax.set_ylabel('CAS |A|')\n",
    "ax.set_xlabel(r'Pixel scale [arcsec]')\n",
    "\n",
    "plt.savefig('figures/paper/cas_a_corr_px.pdf', bbox_inches='tight')"
   ]
  },
  {
   "cell_type": "markdown",
   "id": "05eb9067-9ca2-4d9f-b617-d08a18b51ce8",
   "metadata": {},
   "source": [
    "#### Squared"
   ]
  },
  {
   "cell_type": "code",
   "execution_count": 122,
   "id": "dc2df623-4b90-4249-8c34-e3b3ea4bd344",
   "metadata": {},
   "outputs": [
    {
     "data": {
      "image/png": "[encoded data removed]",
      "text/plain": [
       "<Figure size 350x180 with 1 Axes>"
      ]
     },
     "metadata": {},
     "output_type": "display_data"
    }
   ],
   "source": [
    "px_df['a_sq_root'] = np.sqrt(px_df.a_sq/10)\n",
    "\n",
    "plt.figure(figsize=(3.5,1.8))\n",
    "ax = plt.axes()\n",
    "\n",
    "# Data points\n",
    "ax.scatter(px_df.pxscale, px_df.a_sq_root, color='k', s=10)\n",
    "\n",
    "# Median\n",
    "qs = px_df.groupby(by='pxscale').quantile(q=[0.16, 0.5, 0.84])\n",
    "ax.plot(pxscales, qs.xs(0.5, level=1).a_sq_root, color='C9')\n",
    "ax.fill_between(pxscales, qs.xs(0.16, level=1).a_sq_root, qs.xs(0.84, level=1).a_sq_root, color='C9', alpha=0.2)\n",
    "ax.axhline(np.sqrt(a_sq_real/10), color='k', lw=0.5)\n",
    "\n",
    "# Annotations\n",
    "ax.annotate(r'True $\\sqrt{A^2}$', xy=(0.19, np.sqrt(a_sq_real/10)+0.005), size=10, ha='left', va='bottom')\n",
    "\n",
    "# Limits\n",
    "# ax.set_xlim(19.51, 28.49)\n",
    "ax.set_ylim(0.01, 1.49)\n",
    "ax.set_ylabel(r'$\\sqrt{A^2}$')\n",
    "ax.set_xlabel(r'Pixel scale [arcsec]')\n",
    "\n",
    "plt.savefig('figures/paper/a_sq_px.pdf', bbox_inches='tight')"
   ]
  },
  {
   "cell_type": "markdown",
   "id": "cad151b6-cb06-4504-9d0d-c86b909aa0cf",
   "metadata": {},
   "source": [
    "## Save data"
   ]
  },
  {
   "cell_type": "code",
   "execution_count": 127,
   "id": "f2d0836d-5599-4803-97ba-d81fc840c919",
   "metadata": {},
   "outputs": [],
   "source": [
    "psf_df.to_csv('data/psf_series.csv', index=False)\n",
    "px_df.to_csv('data/px_series.csv', index=False)\n",
    "sky_mags_df.to_csv('data/sky_series.csv', index=False)"
   ]
  },
  {
   "cell_type": "markdown",
   "id": "bf5003a9-3ed1-4a09-b9eb-4768b690a14c",
   "metadata": {},
   "source": [
    "## Aperture size"
   ]
  },
  {
   "cell_type": "code",
   "execution_count": 134,
   "id": "b699dae5-9b0e-4c6e-bd84-3e913585deb7",
   "metadata": {},
   "outputs": [],
   "source": [
    "def get_asymmetry_measurements(img_obs, pxscale, ap_frac=1.5):\n",
    "    \n",
    "    #### Calculate noisy asymmetries\n",
    "    a_cas, _ = get_asymmetry(img_obs, ap_frac*r_pet/pxscale, a_type='cas', sky_type='annulus', bg_corr='residual', sky_annulus=[1.5, 3])\n",
    "    a_cas_corr, _ = get_asymmetry(img_obs, ap_frac*r_pet/pxscale, a_type='cas_corr', sky_type='annulus', bg_corr='residual', sky_annulus=[1.5, 3])\n",
    "\n",
    "    ##### Store output\n",
    "    output = {\n",
    "        'a_cas' : a_cas, 'a_cas_cor' : a_cas_corr\n",
    "    }\n",
    "    \n",
    "    return output\n",
    "    "
   ]
  },
  {
   "cell_type": "code",
   "execution_count": 152,
   "id": "6ad29943-965d-4438-813e-945b84225bbc",
   "metadata": {},
   "outputs": [
    {
     "data": {
      "application/vnd.jupyter.widget-view+json": {
       "model_id": "952da7f37f0c48bebd238dad27d57b8d",
       "version_major": 2,
       "version_minor": 0
      },
      "text/plain": [
       "  0%|          | 0/10 [00:00<?, ?it/s]"
      ]
     },
     "metadata": {},
     "output_type": "display_data"
    }
   ],
   "source": [
    "aps = np.linspace(1,2.5,10)\n",
    "n_sims = 1\n",
    "mag = 23\n",
    "\n",
    "dicts = []\n",
    "\n",
    "img_noisy, sky_flux = sky_noise(img_perfect, sky_mag=mag, pixel_scale=perfect_pxscale, rms_noise=True)\n",
    "\n",
    "for apsize in tqdm(aps):\n",
    "    for n in range(n_sims):\n",
    "        out = get_asymmetry_measurements(img_noisy, perfect_pxscale, apsize)\n",
    "        \n",
    "        # Get SNR/pixel\n",
    "        noise_arr = np.sqrt( (img_perfect) + sky_flux**2 )\n",
    "        ap = aperture.CircularAperture(xc, apsize*r_pet/perfect_pxscale)\n",
    "        snr = ap.do_photometry(img_noisy)[0][0]/ap.do_photometry(noise_arr)[0][0] \n",
    "        \n",
    "        out['apsize'] = apsize\n",
    "        out['n'] = n\n",
    "        out['snr'] = snr\n",
    "        dicts.append(out)\n",
    "        \n",
    "ap_size_df = pd.DataFrame(dicts)"
   ]
  },
  {
   "cell_type": "code",
   "execution_count": 153,
   "id": "b0ee2d16-c275-4935-ad2a-c70268f0d9f4",
   "metadata": {},
   "outputs": [
    {
     "data": {
      "text/plain": [
       "Text(0.5, 0, 'Aperture size [R$_p$]')"
      ]
     },
     "execution_count": 153,
     "metadata": {},
     "output_type": "execute_result"
    },
    {
     "data": {
      "image/png": "[encoded data removed]",
      "text/plain": [
       "<Figure size 350x180 with 1 Axes>"
      ]
     },
     "metadata": {},
     "output_type": "display_data"
    }
   ],
   "source": [
    "plt.figure(figsize=(3.5,1.8))\n",
    "ax = plt.axes()\n",
    "\n",
    "# Data points\n",
    "ax.scatter(ap_size_df.apsize, ap_size_df.a_cas, color='k', s=10)\n",
    "ax.scatter(ap_size_df.apsize, ap_size_df.a_cas_cor, color='k', s=10)\n",
    "\n",
    "# Median\n",
    "qs = ap_size_df.groupby(by='apsize').quantile(q=[0.16, 0.5, 0.84])\n",
    "ax.plot(aps, qs.xs(0.5, level=1).a_cas, color='C9')\n",
    "ax.fill_between(aps, qs.xs(0.16, level=1).a_cas, qs.xs(0.84, level=1).a_cas, color='C9', alpha=0.2)\n",
    "ax.plot(aps, qs.xs(0.5, level=1).a_cas_cor, color='C9')\n",
    "ax.fill_between(aps, qs.xs(0.16, level=1).a_cas_cor, qs.xs(0.84, level=1).a_cas_cor, color='C9', alpha=0.2)\n",
    "\n",
    "ax.axhline(a_cas_real, color='k', lw=0.5)\n",
    "\n",
    "# Annotations\n",
    "ax.annotate('True |A|', xy=(0.19, a_cas_real+0.005), size=10, ha='left', va='bottom')\n",
    "\n",
    "# Limits\n",
    "# ax.set_xlim(19.51, 28.49)\n",
    "ax.set_ylim(0.01, 0.81)\n",
    "ax.set_ylabel('CAS |A|')\n",
    "ax.set_xlabel(r'Aperture size [R$_p$]')\n",
    "\n",
    "# plt.savefig('figures/paper/cas_a_px.pdf', bbox_inches='tight')"
   ]
  },
  {
   "cell_type": "code",
   "execution_count": null,
   "id": "2e7e67f3-3d18-4217-876c-6ebc9fb5560b",
   "metadata": {},
   "outputs": [],
   "source": []
  }
 ],
 "metadata": {
  "kernelspec": {
   "display_name": "Python 3 (ipykernel)",
   "language": "python",
   "name": "python3"
  },
  "language_info": {
   "codemirror_mode": {
    "name": "ipython",
    "version": 3
   },
   "file_extension": ".py",
   "mimetype": "text/x-python",
   "name": "python",
   "nbconvert_exporter": "python",
   "pygments_lexer": "ipython3",
   "version": "3.9.16"
  }
 },
 "nbformat": 4,
 "nbformat_minor": 5
}
