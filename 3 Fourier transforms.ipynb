{
 "cells": [
  {
   "cell_type": "markdown",
   "id": "73676903-33dd-43b8-bb66-4600d8e63936",
   "metadata": {},
   "source": [
    "# Fourier tests\n",
    "\n",
    "Here we test if we can remove the dependence of $f^2$ on the PSF in the fourier space.\n"
   ]
  },
  {
   "cell_type": "code",
   "execution_count": 1,
   "id": "ddc401c9-595e-4759-9c21-565940c3611d",
   "metadata": {},
   "outputs": [],
   "source": [
    "%load_ext autoreload\n",
    "%autoreload 2\n",
    "\n",
    "from math import ceil\n",
    "import numpy as np\n",
    "from scipy.stats import norm\n",
    "import matplotlib.pyplot as plt\n",
    "from scipy import fft \n",
    "from scipy.optimize import curve_fit\n",
    "\n",
    "from tqdm import tqdm\n",
    "\n",
    "from astropy import units as u\n",
    "from astropy.io import fits\n",
    "from astropy.visualization import simple_norm\n",
    "from photutils.aperture import EllipticalAperture, CircularAnnulus, CircularAperture\n",
    "from astropy.convolution import Gaussian2DKernel, convolve, Moffat2DKernel\n",
    "from astropy.stats import gaussian_fwhm_to_sigma\n",
    "from skimage import transform as T\n",
    "import galsim\n",
    "\n",
    "# from asymmetry import get_asymmetry\n",
    "from galaxy_generator import gen_image, gen_galaxy, petrosian_sersic, create_clumps, add_source_to_image, sky_noise, petrosian_sersic\n",
    "# from asymmetry import get_asymmetry, get_residual"
   ]
  },
  {
   "cell_type": "code",
   "execution_count": 2,
   "id": "3f8e5ca1-1b9c-4fe8-9e28-e5329e9ae6cb",
   "metadata": {},
   "outputs": [],
   "source": [
    "plt.rcParams['font.size']=10"
   ]
  },
  {
   "cell_type": "code",
   "execution_count": 3,
   "id": "d6cf7e57-c898-4b31-b39f-1246f9cbcf37",
   "metadata": {},
   "outputs": [],
   "source": [
    "def get_perfect_galaxy(mag, r_eff, fov_reff=10, pxscale=0.396, sersic_n=1, q=1, beta=0, return_image=False):\n",
    "    \n",
    "    sdss_ra = 150\n",
    "    sdss_dec = 2.3\n",
    "    \n",
    "    # Calculate field of view in degrees\n",
    "    fov = fov_reff * r_eff / 3600\n",
    "    \n",
    "    # generate blank image with fov and wcs info\n",
    "    field_image, wcs = gen_image(sdss_ra, sdss_dec, pxscale, fov, fov)\n",
    "\n",
    "    # create a galaxy with given params\n",
    "    galaxy = gen_galaxy(mag=mag, re=r_eff, n=sersic_n, q=q, beta=beta, telescope_params=telescope_params, \n",
    "                        transmission_params=transmission_params, bandpass=bandpass)\n",
    "    \n",
    "    # get petrosian radius of galaxy in px\n",
    "    r_pet = petrosian_sersic(fov, r_eff, 1)/pxscale\n",
    "\n",
    "    if return_image:\n",
    "        pristine_image = add_source_to_image(field_image, galaxy, None, None, None, 0)\n",
    "        return field_image, galaxy, r_pet, pristine_image\n",
    "    else:\n",
    "        return field_image, galaxy, r_pet\n",
    "\n",
    "def get_realistic_galaxy(image, galaxy, r_pet, mag, pxscale, sky_mag=23.7,  psf_fwhm=1.32, \n",
    "               n_clumps=10, clump_properties=None, random_clump_properties=None, rms_noise=True, use_moffat=False):\n",
    "\n",
    "    # generate all the clumps and their positions\n",
    "    clumps, all_xi, all_yi = create_clumps(image, r_pet, n_clumps, mag, telescope_params, transmission_params, bandpass,\n",
    "                                           clump_properties, random_clump_properties)\n",
    "\n",
    "    # convolve sources with psf and add to image\n",
    "    image_psf = add_source_to_image(image, galaxy, clumps, all_xi, all_yi, psf_fwhm, pxscale, use_moffat=use_moffat)\n",
    "\n",
    "    if sky_mag:\n",
    "        # add Poisson noise to image based on pixel counts with added sky level\n",
    "        image_noise, noise = sky_noise(image_psf, sky_mag, pxscale, telescope_params, transmission_params, bandpass, rms_noise=rms_noise)\n",
    "    else:\n",
    "        image_noise, noise = image_psf, None\n",
    "        \n",
    "    # FINAL IMAGE IN ELECTRON COUNTS\n",
    "    return image_noise, noise"
   ]
  },
  {
   "cell_type": "markdown",
   "id": "131616f8-9d23-4b2d-b7d1-699fc0aff19b",
   "metadata": {},
   "source": [
    "## Generate a galaxy\n",
    "\n",
    "Simple galaxy with some seeing an some pixel scale and an asymmetry clump on the outskirts"
   ]
  },
  {
   "cell_type": "code",
   "execution_count": 4,
   "id": "7b39f816-0d62-495e-8152-8e9ed47d61c2",
   "metadata": {},
   "outputs": [],
   "source": [
    "## transmission curve based on sdss r-band total throughput for airmass=1.3 extended source\n",
    "filt = 'r'\n",
    "bandpass_file = \"passband_sdss_\" + filt\n",
    "bandpass = galsim.Bandpass(bandpass_file, wave_type = u.angstrom)\n",
    "\n",
    "## gain, exptime and diameter of telescope\n",
    "telescope_params = {'g':4.8, 't_exp':53.91, 'D':2.5}\n",
    "## effective wavelength and width of filter\n",
    "transmission_params = {'eff_wav':616.5, 'del_wav':137}\n",
    "\n",
    "sky_sdss = 23.7\n",
    "# pxscale_sdss = 0.396\n",
    "psf_sdss = 1.32"
   ]
  },
  {
   "cell_type": "code",
   "execution_count": 5,
   "id": "c7ff3c9c-144e-4f9d-82a4-661138716820",
   "metadata": {},
   "outputs": [],
   "source": [
    "# Asymmetry clumps\n",
    "clump_properties = {\n",
    "    'r' : [0.8],\n",
    "    'theta' : [90],\n",
    "    'flux' : [0.3],\n",
    "    'sigma' : [0.8]\n",
    "}\n",
    "\n",
    "mag = 15.5\n",
    "r = 5\n",
    "q = 0.5\n",
    "sersic_n = 4\n",
    "\n",
    "pxscale = 0.396\n",
    "psf_fwhm = 2.0\n",
    "psf_std = psf_fwhm * gaussian_fwhm_to_sigma\n",
    "\n",
    "field_image, galaxy, r_pet = get_perfect_galaxy(mag, r, fov_reff=10.5, pxscale=pxscale, q=q, sersic_n=sersic_n, return_image=False)\n",
    "img_nopsf = get_realistic_galaxy(field_image, galaxy, r_pet, mag, pxscale=pxscale, use_moffat=True,\n",
    "                                     sky_mag=None, n_clumps=len(clump_properties['r']), psf_fwhm=0, clump_properties=clump_properties)\n",
    "img_psf = get_realistic_galaxy(field_image, galaxy, r_pet, mag, pxscale=pxscale, use_moffat=True,\n",
    "                                     sky_mag=None, n_clumps=len(clump_properties['r']), psf_fwhm=psf_fwhm, clump_properties=clump_properties)\n",
    "\n",
    "# PAD = 0#int(img_psf.shape[0]/2)\n",
    "# XSIZE = img_psf.shape[1]\n",
    "# img_nopsf = np.pad(img_nopsf, pad_width=PAD, mode='edge')\n",
    "# img_psf = np.pad(img_psf, pad_width=PAD, mode='edge')"
   ]
  },
  {
   "cell_type": "markdown",
   "id": "6a78b62a-3ce3-4666-849e-2b4457d37da3",
   "metadata": {},
   "source": [
    "Get just the PSF:"
   ]
  },
  {
   "cell_type": "code",
   "execution_count": 6,
   "id": "8d200409-41af-4bff-abae-5e1ebc379d57",
   "metadata": {},
   "outputs": [
    {
     "ename": "AttributeError",
     "evalue": "'tuple' object has no attribute 'shape'",
     "output_type": "error",
     "traceback": [
      "\u001b[0;31m---------------------------------------------------------------------------\u001b[0m",
      "\u001b[0;31mAttributeError\u001b[0m                            Traceback (most recent call last)",
      "Cell \u001b[0;32mIn[6], line 9\u001b[0m\n\u001b[1;32m      6\u001b[0m power \u001b[38;5;241m=\u001b[39m \u001b[38;5;241m2.4\u001b[39m\n\u001b[1;32m      7\u001b[0m width \u001b[38;5;241m=\u001b[39m get_moffat_width(psf_fwhm\u001b[38;5;241m/\u001b[39mpxscale, power)\n\u001b[1;32m      8\u001b[0m psf_moffat \u001b[38;5;241m=\u001b[39m Moffat2DKernel(gamma\u001b[38;5;241m=\u001b[39mget_moffat_width(psf_fwhm\u001b[38;5;241m/\u001b[39mpxscale, power), \n\u001b[0;32m----> 9\u001b[0m                             alpha\u001b[38;5;241m=\u001b[39mpower, x_size\u001b[38;5;241m=\u001b[39m\u001b[43mimg_psf\u001b[49m\u001b[38;5;241;43m.\u001b[39;49m\u001b[43mshape\u001b[49m[\u001b[38;5;241m1\u001b[39m], y_size\u001b[38;5;241m=\u001b[39mimg_psf\u001b[38;5;241m.\u001b[39mshape[\u001b[38;5;241m0\u001b[39m])\u001b[38;5;241m.\u001b[39marray\n",
      "\u001b[0;31mAttributeError\u001b[0m: 'tuple' object has no attribute 'shape'"
     ]
    }
   ],
   "source": [
    "def get_moffat_width(fwhm, power):\n",
    "    \n",
    "    gamma = fwhm / (2 * np.sqrt(2**(1/power) - 1))\n",
    "    return gamma\n",
    "\n",
    "power = 2.4\n",
    "width = get_moffat_width(psf_fwhm/pxscale, power)\n",
    "psf_moffat = Moffat2DKernel(gamma=get_moffat_width(psf_fwhm/pxscale, power), \n",
    "                            alpha=power, x_size=img_psf.shape[1], y_size=img_psf.shape[0]).array"
   ]
  },
  {
   "cell_type": "code",
   "execution_count": null,
   "id": "e4601f2f-a5a8-4d2d-b29b-f6b3a612d115",
   "metadata": {},
   "outputs": [],
   "source": [
    "# def gaussian(x, std):\n",
    "#     return np.exp(-int(XSIZE/2)**2 / std**2 / 2) / (2*np.pi*std**2)\n",
    "\n",
    "# curve_fit(gaussian, np.arange(img_psf.shape[0]), psf_moffat[int(XSIZE/2)])"
   ]
  },
  {
   "cell_type": "code",
   "execution_count": null,
   "id": "7a1675e4-24d9-403b-96dd-1a5b83071089",
   "metadata": {},
   "outputs": [],
   "source": [
    "# # psf = Gaussian2DKernel(x_stddev=psf_std/pxscale-3, x_size=xsize, y_size=xsize)\n",
    "# # psf = np.pad(psf, mode='constant', constant_values=0, pad_width=int((img_psf.shape[0]-psf.shape[0])/2))\\\n",
    "\n",
    "# # gaussian_sigma = np.sqrt(1/(np.max(psf_moffat) * 2*np.pi))\n",
    "# gaussian_sigma = (psf_fwhm/pxscale) / np.sqrt( 8 * (power-1) * (2**(1/power) - 1 ) )\n",
    "# # gaussian_sigma = 2.71333435\n",
    "\n",
    "# psf_gaussian = Gaussian2DKernel(x_stddev=psf_std/pxscale, x_size=img_psf.shape[1], y_size=img_psf.shape[0]).array\n",
    "# psf_gaussian_corr = Gaussian2DKernel(x_stddev=gaussian_sigma, x_size=img_psf.shape[1], y_size=img_psf.shape[0]).array\n",
    "# # psf = np.pad(psf, mode='constant', pad_width=20)\n",
    "\n",
    "# # psf_power = np.sum(psf**2)\n",
    "# # psf_power\n",
    "\n",
    "# # plt.imshow(np.log10(psf_gaussian))\n",
    "# # plt.colorbar()"
   ]
  },
  {
   "cell_type": "code",
   "execution_count": null,
   "id": "45a79cad-30cd-4568-bee8-7ff4cc6d3f97",
   "metadata": {},
   "outputs": [],
   "source": [
    "xc = int(img_psf.shape[1]/2)\n",
    "plt.plot(psf_gaussian[66])\n",
    "plt.plot(psf_moffat[66])\n",
    "# plt.plot(np.arange(len(img_psf)), gaussian(np.arange(len(img_psf)), 2.713334), color='k')\n",
    "# plt.plot(psf_gaussian_corr[66], color='k')\n",
    "plt.xlim(xc-3*psf_fwhm/pxscale, xc+3*psf_fwhm/pxscale)\n",
    "plt.axvspan(xc-psf_fwhm/pxscale/2, xc+psf_fwhm/pxscale/2, color='k', alpha=0.08)"
   ]
  },
  {
   "cell_type": "code",
   "execution_count": null,
   "id": "852502e5-01df-4ece-807d-cb761d5b2da0",
   "metadata": {},
   "outputs": [],
   "source": [
    "0.02161790011427242/np.max(psf_gaussian_corr)"
   ]
  },
  {
   "cell_type": "markdown",
   "id": "b3a57011-9ab3-47e0-a7f6-18f293f455fe",
   "metadata": {},
   "source": [
    "Choose the PSF:"
   ]
  },
  {
   "cell_type": "code",
   "execution_count": null,
   "id": "d5c24f01-3888-4424-b08b-cefa5713a5ea",
   "metadata": {},
   "outputs": [],
   "source": [
    "psf = psf_gaussian_corr"
   ]
  },
  {
   "cell_type": "markdown",
   "id": "cdefd675-7bd7-4828-acc9-e9064bf78e74",
   "metadata": {},
   "source": [
    "## Fourier transform\n",
    "\n",
    "Transform the PSF-convolved image AND the PSF:\n"
   ]
  },
  {
   "cell_type": "code",
   "execution_count": 4,
   "id": "48412660-b931-45f2-a727-28bf365eb7d8",
   "metadata": {},
   "outputs": [
    {
     "ename": "NameError",
     "evalue": "name 'img_psf' is not defined",
     "output_type": "error",
     "traceback": [
      "\u001b[0;31m---------------------------------------------------------------------------\u001b[0m",
      "\u001b[0;31mNameError\u001b[0m                                 Traceback (most recent call last)",
      "Cell \u001b[0;32mIn[4], line 1\u001b[0m\n\u001b[0;32m----> 1\u001b[0m img_fft \u001b[38;5;241m=\u001b[39m(fft\u001b[38;5;241m.\u001b[39mfft2(\u001b[43mimg_psf\u001b[49m, norm\u001b[38;5;241m=\u001b[39m\u001b[38;5;124m'\u001b[39m\u001b[38;5;124mbackward\u001b[39m\u001b[38;5;124m'\u001b[39m))\n\u001b[1;32m      2\u001b[0m psf_fft \u001b[38;5;241m=\u001b[39m (fft\u001b[38;5;241m.\u001b[39mfft2(fft\u001b[38;5;241m.\u001b[39mfftshift(psf), norm\u001b[38;5;241m=\u001b[39m\u001b[38;5;124m'\u001b[39m\u001b[38;5;124mbackward\u001b[39m\u001b[38;5;124m'\u001b[39m))\n\u001b[1;32m      3\u001b[0m img_nopsf_fft \u001b[38;5;241m=\u001b[39m (fft\u001b[38;5;241m.\u001b[39mfft2(img_nopsf, norm\u001b[38;5;241m=\u001b[39m\u001b[38;5;124m'\u001b[39m\u001b[38;5;124mbackward\u001b[39m\u001b[38;5;124m'\u001b[39m))\n",
      "\u001b[0;31mNameError\u001b[0m: name 'img_psf' is not defined"
     ]
    }
   ],
   "source": [
    "img_fft =(fft.fft2(img_psf, norm='backward'))\n",
    "psf_fft = (fft.fft2(fft.fftshift(psf), norm='backward'))\n",
    "img_nopsf_fft = (fft.fft2(img_nopsf, norm='backward'))\n",
    "\n",
    "# psf_fft[np.log10(np.abs(psf_fft)) < -2] = 1e-2\n",
    "# img_fft[np.log10(np.abs(img_fft)) < -2] = 1e-2\n",
    "\n",
    "psf_fft_power = np.sum(np.abs(psf_fft)**2) / (psf_fft.shape[0]**2)\n",
    "psf_fft_power"
   ]
  },
  {
   "cell_type": "code",
   "execution_count": 5,
   "id": "94658a52-1691-4ac4-84d9-2193597083f8",
   "metadata": {},
   "outputs": [
    {
     "ename": "NameError",
     "evalue": "name 'psf_fft' is not defined",
     "output_type": "error",
     "traceback": [
      "\u001b[0;31m---------------------------------------------------------------------------\u001b[0m",
      "\u001b[0;31mNameError\u001b[0m                                 Traceback (most recent call last)",
      "Cell \u001b[0;32mIn[5], line 1\u001b[0m\n\u001b[0;32m----> 1\u001b[0m np\u001b[38;5;241m.\u001b[39msum( \u001b[38;5;241m1\u001b[39m\u001b[38;5;241m/\u001b[39mnp\u001b[38;5;241m.\u001b[39mabs(\u001b[43mpsf_fft\u001b[49m)\u001b[38;5;241m*\u001b[39m\u001b[38;5;241m*\u001b[39m\u001b[38;5;241m2\u001b[39m)\n",
      "\u001b[0;31mNameError\u001b[0m: name 'psf_fft' is not defined"
     ]
    }
   ],
   "source": [
    "np.sum( 1/np.abs(psf_fft)**2)"
   ]
  },
  {
   "cell_type": "code",
   "execution_count": 6,
   "id": "2fef5b61-d518-47f1-8176-1d40bf64d01f",
   "metadata": {},
   "outputs": [],
   "source": [
    "# plt.imshow((np.abs(psf_fft)), vmin=1e-4, vmax=5e-4)\n",
    "# plt.colorbar()\n"
   ]
  },
  {
   "cell_type": "markdown",
   "id": "2e17a869-6bc2-4fcd-8bcb-6a0804aa8d28",
   "metadata": {},
   "source": [
    "Check that we can reconstruct the image:"
   ]
  },
  {
   "cell_type": "code",
   "execution_count": 7,
   "id": "f3562480-af96-479f-8b3e-79eb1d322bc3",
   "metadata": {},
   "outputs": [
    {
     "ename": "NameError",
     "evalue": "name 'img_nopsf' is not defined",
     "output_type": "error",
     "traceback": [
      "\u001b[0;31m---------------------------------------------------------------------------\u001b[0m",
      "\u001b[0;31mNameError\u001b[0m                                 Traceback (most recent call last)",
      "Cell \u001b[0;32mIn[7], line 3\u001b[0m\n\u001b[1;32m      1\u001b[0m fig, axs \u001b[38;5;241m=\u001b[39m plt\u001b[38;5;241m.\u001b[39msubplots(\u001b[38;5;241m1\u001b[39m, \u001b[38;5;241m7\u001b[39m, figsize\u001b[38;5;241m=\u001b[39m(\u001b[38;5;241m10.5\u001b[39m,\u001b[38;5;241m1.5\u001b[39m))\n\u001b[0;32m----> 3\u001b[0m axs[\u001b[38;5;241m0\u001b[39m]\u001b[38;5;241m.\u001b[39mimshow(\u001b[43mimg_nopsf\u001b[49m); axs[\u001b[38;5;241m0\u001b[39m]\u001b[38;5;241m.\u001b[39mset_title(\u001b[38;5;124m'\u001b[39m\u001b[38;5;124mSource\u001b[39m\u001b[38;5;124m'\u001b[39m)\n\u001b[1;32m      4\u001b[0m axs[\u001b[38;5;241m1\u001b[39m]\u001b[38;5;241m.\u001b[39mimshow(img_psf); axs[\u001b[38;5;241m1\u001b[39m]\u001b[38;5;241m.\u001b[39mset_title(\u001b[38;5;124m'\u001b[39m\u001b[38;5;124mSource+PSF\u001b[39m\u001b[38;5;124m'\u001b[39m)\n\u001b[1;32m      6\u001b[0m axs[\u001b[38;5;241m2\u001b[39m]\u001b[38;5;241m.\u001b[39mimshow(np\u001b[38;5;241m.\u001b[39mlog10(np\u001b[38;5;241m.\u001b[39mabs(img_fft)), vmin\u001b[38;5;241m=\u001b[39m\u001b[38;5;241m-\u001b[39m\u001b[38;5;241m5\u001b[39m, vmax\u001b[38;5;241m=\u001b[39m\u001b[38;5;241m5\u001b[39m); axs[\u001b[38;5;241m2\u001b[39m]\u001b[38;5;241m.\u001b[39mset_title(\u001b[38;5;124m'\u001b[39m\u001b[38;5;124mF(Source+PSF)\u001b[39m\u001b[38;5;124m'\u001b[39m)\n",
      "\u001b[0;31mNameError\u001b[0m: name 'img_nopsf' is not defined"
     ]
    },
    {
     "data": {
      "image/png": "[encoded data removed]",
      "text/plain": [
       "<Figure size 1050x150 with 7 Axes>"
      ]
     },
     "metadata": {},
     "output_type": "display_data"
    }
   ],
   "source": [
    "fig, axs = plt.subplots(1, 7, figsize=(10.5,1.5))\n",
    "\n",
    "axs[0].imshow(img_nopsf); axs[0].set_title('Source')\n",
    "axs[1].imshow(img_psf); axs[1].set_title('Source+PSF')\n",
    "\n",
    "axs[2].imshow(np.log10(np.abs(img_fft)), vmin=-5, vmax=5); axs[2].set_title('F(Source+PSF)')\n",
    "axs[3].imshow(np.log10(np.abs(img_nopsf_fft)), vmin=-5,vmax=5); axs[3].set_title('F(source)')\n",
    "axs[4].imshow(np.log10(np.abs(psf_fft)), vmin=-5,vmax=5); axs[4].set_title('F(PSF)')\n",
    "axs[5].imshow(np.log10(np.abs(img_fft/psf_fft)), vmin=-5,vmax=5); axs[5].set_title('F(source+psf)/F(psf)')\n",
    "axs[6].imshow(np.log10(np.abs(img_nopsf_fft*psf_fft)), vmin=-5,vmax=5); axs[6].set_title('F(source)*F(psf)')\n",
    "\n",
    "for ax in axs:\n",
    "    ax.axis('off')\n",
    "plt.subplots_adjust(wspace=0.05)\n",
    "# source_fft = fft.fft2(img_nopsf)\n",
    "# psf_fft = fft.fft2(psf)\n",
    "\n",
    "# source_fft.shape, psf_fft.shape"
   ]
  },
  {
   "cell_type": "code",
   "execution_count": null,
   "id": "cb5f08cc-3eaa-4f30-bc21-61fdc79a2391",
   "metadata": {},
   "outputs": [],
   "source": [
    "original = img_fft.copy()\n",
    "original /= psf_fft\n",
    "original = fft.ifft2(original)\n",
    "# original = fft.fftshift(original)"
   ]
  },
  {
   "cell_type": "code",
   "execution_count": null,
   "id": "90c1935d-54cc-4aad-bb88-a3dff5f4289c",
   "metadata": {},
   "outputs": [],
   "source": [
    "plt.imshow(np.abs(original[PAD:XSIZE-PAD,PAD:XSIZE-PAD]), vmin=0, vmax=2000)"
   ]
  },
  {
   "cell_type": "code",
   "execution_count": null,
   "id": "ca178573-b8cf-45df-91da-29fc43996c37",
   "metadata": {},
   "outputs": [],
   "source": [
    "plt.imshow(np.abs(img_nopsf[PAD:XSIZE-PAD,PAD:XSIZE-PAD]), vmin=0, vmax=2000)"
   ]
  },
  {
   "cell_type": "markdown",
   "id": "10ae9fee-8966-411f-aef8-33ae4152cff6",
   "metadata": {},
   "source": [
    "## Sums"
   ]
  },
  {
   "cell_type": "code",
   "execution_count": 8,
   "id": "19198e4f-6052-4299-95a3-29c1dfb2f606",
   "metadata": {},
   "outputs": [
    {
     "ename": "NameError",
     "evalue": "name 'img_fft' is not defined",
     "output_type": "error",
     "traceback": [
      "\u001b[0;31m---------------------------------------------------------------------------\u001b[0m",
      "\u001b[0;31mNameError\u001b[0m                                 Traceback (most recent call last)",
      "Cell \u001b[0;32mIn[8], line 1\u001b[0m\n\u001b[0;32m----> 1\u001b[0m N \u001b[38;5;241m=\u001b[39m \u001b[43mimg_fft\u001b[49m\u001b[38;5;241m.\u001b[39mshape[\u001b[38;5;241m0\u001b[39m]\u001b[38;5;241m*\u001b[39mimg_fft\u001b[38;5;241m.\u001b[39mshape[\u001b[38;5;241m1\u001b[39m]\n\u001b[1;32m      3\u001b[0m flux_f \u001b[38;5;241m=\u001b[39m np\u001b[38;5;241m.\u001b[39msum(img_nopsf\u001b[38;5;241m*\u001b[39m\u001b[38;5;241m*\u001b[39m\u001b[38;5;241m2\u001b[39m)\n\u001b[1;32m      4\u001b[0m flux_fimg \u001b[38;5;241m=\u001b[39m np\u001b[38;5;241m.\u001b[39msum(img_psf\u001b[38;5;241m*\u001b[39m\u001b[38;5;241m*\u001b[39m\u001b[38;5;241m2\u001b[39m)\n",
      "\u001b[0;31mNameError\u001b[0m: name 'img_fft' is not defined"
     ]
    }
   ],
   "source": [
    "N = img_fft.shape[0]*img_fft.shape[1]\n",
    "\n",
    "flux_f = np.sum(img_nopsf**2)\n",
    "flux_fimg = np.sum(img_psf**2)\n",
    "\n",
    "flux_f_fft = np.sum(np.abs(img_nopsf_fft)**2) / N\n",
    "flux_fimg_fft = np.sum(np.abs(img_fft)**2) / N\n",
    "\n",
    "flux_fcorr_fft = np.sum( np.abs(img_fft)**2 / np.abs(psf_fft)**2 ) / N\n",
    "\n",
    "print(f'Source flux^2: {flux_f:0.2E}')\n",
    "print(f'Image flux^2: {flux_fimg:0.2E}')\n",
    "\n",
    "print()\n",
    "\n",
    "print(f'FFT Source flux^2: {flux_f_fft:0.2E}')\n",
    "print(f'FFT Image flux^2: {flux_fimg_fft:0.2E}')\n",
    "\n",
    "print()\n",
    "\n",
    "print(f'FFT Image corr. flux^2: {flux_fcorr_fft:0.2E}')"
   ]
  },
  {
   "cell_type": "code",
   "execution_count": 9,
   "id": "8ff4bab0-95d5-4fd1-9668-791d03b9a215",
   "metadata": {},
   "outputs": [
    {
     "data": {
      "text/plain": [
       "0.0985155195681512"
      ]
     },
     "execution_count": 9,
     "metadata": {},
     "output_type": "execute_result"
    }
   ],
   "source": [
    "(7.41-6.68)/7.41"
   ]
  },
  {
   "cell_type": "markdown",
   "id": "67119abf-eedf-4923-b748-eed8396cc16d",
   "metadata": {},
   "source": [
    "## Test as a function of pixel scale, PSF size"
   ]
  },
  {
   "cell_type": "code",
   "execution_count": 10,
   "id": "6ae37552-b3f2-4b9d-be6a-38a04d3c24c2",
   "metadata": {},
   "outputs": [],
   "source": [
    "def get_fluxes(pxscale, psf_fwhm, use_moffat=False):\n",
    "    \n",
    "    # Generate galaxies\n",
    "    field_image, galaxy, r_pet = get_perfect_galaxy(mag, r, fov_reff=10.5, pxscale=pxscale, q=q, return_image=False)\n",
    "    img_nopsf = get_realistic_galaxy(field_image, galaxy, r_pet, mag, pxscale=pxscale,\n",
    "                                   sky_mag=None, n_clumps=len(clump_properties['r']), psf_fwhm=0, \n",
    "                                   clump_properties=clump_properties, use_moffat=use_moffat)\n",
    "    img_psf = get_realistic_galaxy(field_image, galaxy, r_pet, mag, pxscale=pxscale,\n",
    "                                   sky_mag=None, n_clumps=len(clump_properties['r']), psf_fwhm=psf_fwhm, \n",
    "                                   clump_properties=clump_properties, use_moffat=use_moffat)\n",
    "    N = img_psf.shape[0]\n",
    "    \n",
    "    \n",
    "    # Generate PSF\n",
    "    # psf_fwhm = np.abs(psf_fwhm + norm.rvs(loc=0, scale=0.1, size=1))\n",
    "    psf_std = psf_fwhm * gaussian_fwhm_to_sigma / pxscale\n",
    "    # power = 2.45\n",
    "    # psf_std = (psf_fwhm/pxscale) / np.sqrt( 8 * (power-1) * (2**(1/power) - 1 ) )\n",
    "    psf = Gaussian2DKernel(x_stddev=psf_std, x_size=N, y_size=N)\n",
    "    \n",
    "    # Convert to Fourier space\n",
    "    img_fft =(fft.fft2(img_psf))\n",
    "    psf_fft = (fft.fft2(fft.fftshift(psf)))\n",
    "    \n",
    "    # Get rid of small modes that will blow up the result\n",
    "    psf_fft[np.log10(np.abs(psf_fft)) < -2] = 1e-2\n",
    "    \n",
    "    # Compute the deconvolved image in PSF space\n",
    "    deconv_fft = img_fft / psf_fft\n",
    "\n",
    "    # Calculate total fluxes\n",
    "    source_flux = np.sum(img_nopsf**2) / pxscale**2\n",
    "    image_flux = np.sum(img_psf**2)/ pxscale**2\n",
    "    corr_flux = np.sum( np.abs(deconv_fft)**2 ) / N**2 / pxscale**2 \n",
    "    \n",
    "    return np.array([source_flux, image_flux, corr_flux])"
   ]
  },
  {
   "cell_type": "markdown",
   "id": "a925df21-ad32-498e-912b-481a5df4347b",
   "metadata": {},
   "source": [
    "Run for a range of pixel scales & seeing values"
   ]
  },
  {
   "cell_type": "code",
   "execution_count": 45,
   "id": "82365b7f-0a0c-48bb-974c-29a1229a746a",
   "metadata": {},
   "outputs": [
    {
     "name": "stderr",
     "output_type": "stream",
     "text": [
      "  0%|                                                                                            | 0/30 [00:00<?, ?it/s]/tmp/ipykernel_10397/1169168880.py:26: RuntimeWarning: divide by zero encountered in log10\n",
      "  psf_fft[np.log10(np.abs(psf_fft)) < -2] = 1e-2\n",
      "100%|███████████████████████████████████████████████████████████████████████████████████| 30/30 [00:33<00:00,  1.11s/it]\n"
     ]
    }
   ],
   "source": [
    "num_points = 30\n",
    "pxscales = np.linspace(0.1,2.0, num_points)\n",
    "seeings = np.linspace(0.1,2.0, num_points)\n",
    "\n",
    "fluxes = np.zeros((num_points, num_points, 3))\n",
    "\n",
    "for i, pxscale in tqdm(enumerate(pxscales), total=num_points):\n",
    "    for j, seeing in enumerate(seeings):\n",
    "\n",
    "        fluxes[i,j,:] = get_fluxes(pxscale, seeing, use_moffat=True)"
   ]
  },
  {
   "cell_type": "markdown",
   "id": "17b24a82-8553-4b54-b968-cbd94869244d",
   "metadata": {},
   "source": [
    "Calculate errors:"
   ]
  },
  {
   "cell_type": "code",
   "execution_count": 46,
   "id": "3bdd2c15-ad45-4401-a02c-997ff269544c",
   "metadata": {},
   "outputs": [],
   "source": [
    "error_image = (fluxes[:,:,1] - fluxes[:,:,0])/fluxes[:,:,0]\n",
    "error_corr = (fluxes[:,:,2] - fluxes[:,:,0])/fluxes[:,:,0]"
   ]
  },
  {
   "cell_type": "markdown",
   "id": "0d5ca30d-cf5d-4a1e-970b-3ea315d0fbe4",
   "metadata": {},
   "source": [
    "Plot errors:"
   ]
  },
  {
   "cell_type": "code",
   "execution_count": 47,
   "id": "3ecd6d20-aab5-4f85-b20a-1e1a6fce4654",
   "metadata": {},
   "outputs": [
    {
     "data": {
      "text/plain": [
       "Text(0, 0.5, 'Pixel scale [arcsec]')"
      ]
     },
     "execution_count": 47,
     "metadata": {},
     "output_type": "execute_result"
    },
    {
     "data": {
      "image/png": "[encoded data removed]",
      "text/plain": [
       "<Figure size 700x300 with 3 Axes>"
      ]
     },
     "metadata": {},
     "output_type": "display_data"
    }
   ],
   "source": [
    "PXSCALE, SEEING = np.meshgrid(pxscales, seeings)\n",
    "cmap = plt.get_cmap('bwr')\n",
    "cmap.set_extremes(under='#ff0', over='#f0f')\n",
    "\n",
    "fig, axs = plt.subplots(1,2, figsize=(7, 3), sharey=True)\n",
    "axs[0].pcolormesh(PXSCALE, SEEING, error_image, vmax=0.2, vmin=-0.2, cmap='bwr')\n",
    "im = axs[1].pcolormesh(PXSCALE, SEEING, error_corr, vmax=0.2, vmin=-0.2, cmap='bwr')\n",
    "\n",
    "for ax in axs:\n",
    "    ax.fill_between([0,2], [0,1], [2,2], color='k', alpha=0.08)\n",
    "    ax.plot([0,2], [0,1], color='k', lw=0.5, alpha=0.3)\n",
    "    ax.set_xlim(pxscales[0], pxscales[-1])\n",
    "    ax.set_ylim(seeings[0], seeings[-1])\n",
    "axs[0].annotate('Nyquist sampling', xy=(1.65, 1.65/2+0.05), rotation=25.3, ha='center', va='center', size=8)\n",
    "\n",
    "plt.subplots_adjust(wspace=0.05, right=0.94)\n",
    "cax = fig.add_axes([0.95,0,0.02,1])\n",
    "cbar = fig.colorbar(im, cax=cax)\n",
    "cbar.set_label(r'$\\Delta$ f$^2$ / f$^2$')\n",
    "\n",
    "axs[0].set_xlabel('Seeing [arcsec]')\n",
    "axs[1].set_xlabel('Seeing [arcsec]')\n",
    "axs[0].set_ylabel('Pixel scale [arcsec]')"
   ]
  },
  {
   "cell_type": "markdown",
   "id": "94563b56-caa9-4835-93aa-c08d933b3dc9",
   "metadata": {},
   "source": [
    "## Wrong shape of the PSF\n",
    "\n",
    "\"Typical\" seeing is better described by a Moffat profile than a Gaussian PSF, so what happens if we *convolve* the image with a Moffat, but try to *deconvolve* using a Gaussian?\n",
    "\n",
    "* Generate a Moffat profile, given some $\\gamma$ (radius) and $\\alpha$ (power)\n",
    "* Try to fit a Gaussian to this profile to get the effective Gaussian FWHM"
   ]
  },
  {
   "cell_type": "code",
   "execution_count": 42,
   "id": "20ea49bc-1126-464f-8d60-5667271e953c",
   "metadata": {},
   "outputs": [],
   "source": [
    "# def get_moffat_from_fwhm(moffat_fwhm, power=2.3):\n",
    "    \n",
    "#     # Calculate \"gamma\" from Moffat power and desired fwhm\n",
    "#     gamma = fwhm / (2 * np.sqrt(2**(1/power) - 1))\n",
    "#     print(gamma)\n",
    "\n",
    "\n",
    "# # width = get_moffbat_width(psf_fwhm/pxscale, power)\n",
    "# # psf_moffat = Moffat2DKernel(gamma=get_moffat_width(psf_fwhm/pxscale, power), \n",
    "# #                             alpha=power, x_size=img_psf.shape[1], y_size=img_psf.shape[0]).array"
   ]
  },
  {
   "cell_type": "code",
   "execution_count": 43,
   "id": "4d454b66-1077-4087-bfbc-981c7463c751",
   "metadata": {},
   "outputs": [],
   "source": [
    "fwhm = 2\n",
    "power = 2.0\n",
    "gamma = fwhm / (2 * np.sqrt(2**(1/power) - 1))\n",
    "\n",
    "moffat = Moffat2DKernel(gamma=gamma, alpha=power, x_size=11, y_size=11).array\n",
    "gauss = Gaussian2DKernel(x_stddev=fwhm*gaussian_fwhm_to_sigma, x_size=11, y_size=11).array\n"
   ]
  },
  {
   "cell_type": "code",
   "execution_count": 207,
   "id": "94c1f89a-7b73-449b-a767-36601b30f745",
   "metadata": {},
   "outputs": [
    {
     "data": {
      "text/plain": [
       "[<matplotlib.lines.Line2D at 0x7f90bdd2ae50>]"
      ]
     },
     "execution_count": 207,
     "metadata": {},
     "output_type": "execute_result"
    },
    {
     "data": {
      "image/png": "[encoded data removed]",
      "text/plain": [
       "<Figure size 250x250 with 1 Axes>"
      ]
     },
     "metadata": {},
     "output_type": "display_data"
    }
   ],
   "source": [
    "plt.plot(np.max(moffat, axis=0), '.-')\n",
    "plt.plot(np.max(gauss, axis=0), '.-')"
   ]
  },
  {
   "cell_type": "markdown",
   "id": "b87bed48-23f4-4054-a8f8-0d91e66d570d",
   "metadata": {},
   "source": [
    "## Noise\n",
    "\n",
    "I think the Fourier deconvolution is not robust to noise unfortunately... but let's find out"
   ]
  },
  {
   "cell_type": "code",
   "execution_count": 7,
   "id": "678e8229-01b8-4bc6-9821-cbac363e27f4",
   "metadata": {},
   "outputs": [],
   "source": [
    "# def wiener(image, psf, bg_var):\n",
    "    \n",
    "#     N = image.shape[0] * image.shape[1]\n",
    "#     if bg_var is None:\n",
    "#         bg_var = 1e-3 \n",
    "#         noise_sq = bg_var * N\n",
    "#     else:\n",
    "#         bg_var = np.max([bg_var, 1e-3]) \n",
    "#         # bg_var = 1e-3\n",
    "#         noise_sq =  bg_var * N\n",
    "    \n",
    "#     transform = psf / (psf**2 + noise_sq/image**2)\n",
    "#     # snr_sq = image**2 / noise_sq\n",
    "#     # denom = psf**2 + 1/snr_sq\n",
    "#     # transform = psf / denom\n",
    "#     return image*transform"
   ]
  },
  {
   "cell_type": "code",
   "execution_count": 8,
   "id": "466da51e-c3f3-495e-ae99-c6e06b14681a",
   "metadata": {},
   "outputs": [],
   "source": [
    "class fitQuadratic:\n",
    "    # Utility class to do the fitting & pass the central frequency parameter\n",
    "    def __init__(self, xc, xdata, ydata):\n",
    "        self.xc = xc\n",
    "        self.xdata = xdata\n",
    "        self.ydata = ydata\n",
    "        \n",
    "    \n",
    "    def quadratic(self, X, A, B, C, D):    \n",
    "        # X should be 2xN array\n",
    "        x, y = X\n",
    "    \n",
    "        # 2D quadratic function\n",
    "        f = A*(x-self.xc)**2 *(y-self.xc)**2 + B*(x-self.xc)**2  + C*(y-self.xc)**2 + D\n",
    "        return f\n",
    "    \n",
    "    def fit(self):\n",
    "        self.res = curve_fit(self.quadratic, self.xdata, self.ydata, bounds=([0,0,0,-np.inf],4*[np.inf]))[0]"
   ]
  },
  {
   "cell_type": "code",
   "execution_count": 9,
   "id": "fbf4f55b-281a-4513-95bc-ddbf6b80d477",
   "metadata": {},
   "outputs": [],
   "source": [
    "def make_perfect_galaxy(\n",
    "    mag, r_eff, fov_reff=10, pxscale=0.396, sersic_n=1, q=1, beta=0, \n",
    "    sky_mag=23.7,  psf_fwhm=1.32, rms_noise=True,\n",
    "    n_clumps=10, clump_properties=None, random_clump_properties=None, use_moffat=False\n",
    "):\n",
    "    \n",
    "    #################### SDSS set-up ###########################\n",
    "    sdss_ra = 150\n",
    "    sdss_dec = 2.3\n",
    "    filt = 'r'\n",
    "    bandpass_file = \"passband_sdss_\" + filt\n",
    "    bandpass = galsim.Bandpass(bandpass_file, wave_type = u.angstrom)\n",
    "    ## gain, exptime and diameter of telescope\n",
    "    telescope_params = {'g':4.8, 't_exp':53.91, 'D':2.5}\n",
    "    ## effective wavelength and width of filter\n",
    "    transmission_params = {'eff_wav':616.5, 'del_wav':137}\n",
    "    \n",
    "    ############## Sersic profile only #########################\n",
    "    # Calculate field of view in degrees\n",
    "    fov = fov_reff * r_eff / 3600\n",
    "    \n",
    "    # generate blank image with fov and wcs info\n",
    "    field_image, wcs = gen_image(sdss_ra, sdss_dec, pxscale, fov, fov)\n",
    "\n",
    "    # create a galaxy with given params\n",
    "    galaxy = gen_galaxy(mag=mag, re=r_eff, n=sersic_n, q=q, beta=beta, telescope_params=telescope_params, \n",
    "                        transmission_params=transmission_params, bandpass=bandpass)\n",
    "    \n",
    "    # get petrosian radius of galaxy in px\n",
    "    r_pet = petrosian_sersic(fov, r_eff, 1)/pxscale\n",
    "    \n",
    "    ############## Asymmetry clumps ############################\n",
    "     # generate all the clumps and their positions\n",
    "    clumps, all_xi, all_yi = create_clumps(field_image, r_pet, n_clumps, mag, telescope_params, transmission_params, bandpass,\n",
    "                                           clump_properties, random_clump_properties)\n",
    "    \n",
    "    \n",
    "    ############## Perfect image ###############################\n",
    "    image_perfect = add_source_to_image(field_image, galaxy, clumps, all_xi, all_yi, 0, pxscale)\n",
    "\n",
    "    \n",
    "    ############## Convolved image #############################\n",
    "    image_psf = add_source_to_image(field_image, galaxy, clumps, all_xi, all_yi, psf_fwhm, pxscale, use_moffat=use_moffat)\n",
    "    \n",
    "    \n",
    "    ############## Add noise ####################################\n",
    "    image_noise, noise = sky_noise(image_psf, sky_mag, pxscale, telescope_params, transmission_params, bandpass, rms_noise=rms_noise)\n",
    "    \n",
    "    return image_perfect, image_noise, noise"
   ]
  },
  {
   "cell_type": "code",
   "execution_count": 10,
   "id": "599a78be-f5e8-400c-85f9-4bc1bd016e31",
   "metadata": {},
   "outputs": [],
   "source": [
    "pxscale = 0.396\n",
    "psf_fwhm = 3\n",
    "psf_std = psf_fwhm * gaussian_fwhm_to_sigma\n",
    "fft_norm = 'backward'\n",
    "sersic_n = 1\n",
    "\n",
    "n_clumps = len(clump_properties['r'])\n",
    "n_clumps = 1\n",
    "\n",
    "img_nopsf, img_psf, noise = make_perfect_galaxy(mag, r, 10.5, pxscale, q=q, sersic_n=sersic_n, n_clumps=n_clumps, \n",
    "                                                clump_properties=clump_properties,\n",
    "                                                sky_mag=50, psf_fwhm=psf_fwhm)\n",
    "\n",
    "psf = Gaussian2DKernel(x_stddev=psf_std/pxscale, x_size=img_psf.shape[1], y_size=img_psf.shape[0]).array\n",
    "\n",
    "# power = 2.45\n",
    "# psf_std = (psf_fwhm/pxscale) / np.sqrt( 8 * (power-1) * (2**(1/power) - 1 ) )\n",
    "# psf = Gaussian2DKernel(x_stddev=psf_std, x_size=img_psf.shape[1], y_size=img_psf.shape[0]).array\n",
    "\n",
    "img_fft =(fft.fft2(img_psf, norm=fft_norm))\n",
    "psf_fft = (fft.fft2(fft.fftshift(psf), norm=fft_norm))\n",
    "img_nopsf_fft = (fft.fft2(img_nopsf, norm=fft_norm))\n",
    "\n",
    "N = img_fft.shape[0]\n",
    "noise_fft = noise * N\n",
    "\n",
    "# * img_fft.shape[1]\n",
    "# psf_fft[np.log10(np.abs(psf_fft)) < -3] = 1e-3  #1/(N*np.sqrt(noise))\n",
    "# psf_fft[(np.abs(psf_fft)) < 0.2] = 0.2\n"
   ]
  },
  {
   "cell_type": "code",
   "execution_count": 11,
   "id": "ff71c2a7-abc5-4dab-9f51-b920752f62e2",
   "metadata": {},
   "outputs": [],
   "source": [
    "def wiener(image, psf, bg_std, source=None):\n",
    "    \n",
    "    N = image.shape[0] \n",
    "        \n",
    "    if source is None: source = image\n",
    "    if bg_std is None: bg_std = 1e-2\n",
    "    bg_std = np.max([bg_std, 1e-2]) \n",
    "    \n",
    "    noise = bg_std \n",
    "    snr = source/noise\n",
    "    transform = psf / (psf**2 + (snr)**(-2))\n",
    "    \n",
    "    return image*transform"
   ]
  },
  {
   "cell_type": "code",
   "execution_count": 12,
   "id": "4dac50ef-8629-40cb-93ee-f2fc43b8e6b1",
   "metadata": {},
   "outputs": [],
   "source": [
    "def fit_H(img_fft, psf_fft):\n",
    "    \n",
    "    # Image x, y arrays\n",
    "    xc = int(img_fft.shape[0]/2)\n",
    "    xs = np.arange(img_fft.shape[0])\n",
    "    XS, YS = np.meshgrid(xs, xs)\n",
    "\n",
    "    # Calculate SNR\n",
    "    snr = np.sqrt(img_fft*np.conj(img_fft) / (noise_fft**2 + np.abs(img_fft))) \n",
    "    snr = np.abs(snr)\n",
    "    \n",
    "    # Choose indices where SNR is high \n",
    "    snr_lim = np.quantile(snr, 0.95)\n",
    "    snr_lim = np.max([snr_lim, 4])\n",
    "    good_ids = np.nonzero(snr >snr_lim)\n",
    "    good_log_snr = np.log10(snr[good_ids])\n",
    "    good_xs = XS[good_ids]\n",
    "    good_ys = YS[good_ids]\n",
    "    \n",
    "    # Use that to fit the real SNR for low-SNR regions\n",
    "    fit_inst = fitQuadratic(xc)\n",
    "    res = curve_fit(fit_inst.quadratic, np.array([good_xs, good_ys]), good_log_snr, bounds=([0,0,0,-np.inf],4*[np.inf]))[0]\n",
    "\n",
    "    # Rewrite high-SNR regions with the real values\n",
    "    fit_snr = fit_inst.quadratic(np.array([XS,YS]), *res)\n",
    "    fit_snr = np.power(10, fit_snr)\n",
    "    fit_snr[good_ids] = snr[good_ids]\n",
    "    \n",
    "    # Calculate H\n",
    "    snr_inv_sq = 1/fit_snr**2\n",
    "    H = np.sqrt((1 + snr_inv_sq) / ( psf_fft*np.conj(psf_fft) + snr_inv_sq) )\n",
    "    \n",
    "    return H\n",
    "    \n",
    "def recon_wiener(img_fft, psf_fft, snr):\n",
    "\n",
    "    psf_fft_sq = np.real(np.conj(psf_fft)*psf_fft)\n",
    "    H = psf_fft / (psf_fft_sq + np.power(snr, -2))\n",
    "    return H\n",
    "\n",
    "def recon_new(img_fft, psf_fft, snr):\n",
    "\n",
    "\n",
    "    psf_fft_sq = np.real(np.conj(psf_fft)*psf_fft)\n",
    "    snr_inv_sq = np.power(snr, -2)\n",
    "    \n",
    "    H_sq = (1 + snr_inv_sq) / (psf_fft_sq + snr_inv_sq)\n",
    "    H = np.sqrt(H_sq)\n",
    "    \n",
    "    return H\n",
    "\n"
   ]
  },
  {
   "cell_type": "code",
   "execution_count": 13,
   "id": "3fc9c383-9147-4554-9d92-5ec24219d292",
   "metadata": {},
   "outputs": [],
   "source": [
    "def fun_fit_snr(img_fft, noise_fft, psf_fft):\n",
    "    \n",
    "    # Image x, y arrays\n",
    "    xc = int(img_fft.shape[0]/2)\n",
    "    xs = np.arange(img_fft.shape[0])\n",
    "    XS, YS = np.meshgrid(xs, xs)\n",
    "\n",
    "    # Calculate SNR\n",
    "    snr = np.sqrt(img_fft*np.conj(img_fft) / ( np.abs(noise_fft)**2 )) \n",
    "    snr = np.abs(snr)\n",
    "    \n",
    "    # Choose indices where SNR is high \n",
    "    snr_lim = np.quantile(snr, 0.99)\n",
    "    snr_lim = np.max([snr_lim, 5])\n",
    "    # snr_lim=5\n",
    "    print(snr_lim)\n",
    "    good_ids = np.nonzero(snr >snr_lim)\n",
    "    good_log_snr = np.log10(snr[good_ids])\n",
    "    good_xs = XS[good_ids]\n",
    "    good_ys = YS[good_ids]\n",
    "    \n",
    "    # Use that to fit the real SNR for low-SNR regions\n",
    "    fit_inst = fitQuadratic(xc=xc, xdata=np.array([good_xs, good_ys]), ydata=good_log_snr)\n",
    "    fit_inst.fit()\n",
    "    \n",
    "    # Rewrite high-SNR regions with the real values\n",
    "    fit_snr = fit_inst.quadratic(np.array([XS,YS]), *fit_inst.res)\n",
    "    fit_snr = np.power(10, fit_snr)\n",
    "    fit_snr[good_ids] = snr[good_ids]\n",
    "    \n",
    "    # Correct for PSF\n",
    "    # psf_copy = psf_fft.copy()\n",
    "    # psf_copy[np.abs(psf_copy) < 0.1] = 0.1\n",
    "    # fit_snr = np.abs(fit_snr / psf_copy)\n",
    "    \n",
    "    return fit_snr\n",
    "\n",
    "\n",
    "def recon_iter(img_fft, psf_fft, recon_fun=recon_new, iters=3):\n",
    "    \n",
    "    recon = img_fft\n",
    "    H = np.ones_like(img_fft)\n",
    "    for n in range(iters):\n",
    "        snr = fun_fit_snr(recon, noise_fft, None)\n",
    "        H = recon_fun(img_fft, psf_fft, snr)\n",
    "        recon = img_fft*H\n",
    "    \n",
    "    return snr, H"
   ]
  },
  {
   "cell_type": "code",
   "execution_count": 14,
   "id": "b73db594-bf05-437c-984f-bf701faf3c85",
   "metadata": {},
   "outputs": [],
   "source": [
    "bg = norm.rvs(loc=0, scale=noise, size=img_fft.shape)\n",
    "bg_fft = fft.fft2(bg, norm=fft_norm)"
   ]
  },
  {
   "cell_type": "code",
   "execution_count": 15,
   "id": "566d9792-93ef-4ea9-aac0-ccfa3c45e55a",
   "metadata": {},
   "outputs": [
    {
     "name": "stdout",
     "output_type": "stream",
     "text": [
      "86981589087.20227\n",
      "94066461044379.12\n",
      "86981589087.20227\n",
      "5980358218381.853\n"
     ]
    }
   ],
   "source": [
    "xc = int(img_fft.shape[0]/2)\n",
    "xs = np.arange(img_fft.shape[0])\n",
    "XS, YS = np.meshgrid(xs, xs)\n",
    "\n",
    "# snr = np.sqrt(img_fft*np.conj(img_fft) / (noise_fft**2 + np.abs(img_fft)))  \n",
    "# snr_real = np.sqrt(img_nopsf_fft*np.conj(img_nopsf_fft) / (noise_fft**2  + np.std(np.abs(img_nopsf_fft)) ))\n",
    "# snr = np.abs(snr)\n",
    "\n",
    "snr = np.sqrt(img_fft*np.conj(img_fft) / (noise_fft**2 ))  \n",
    "snr_real = np.sqrt(img_nopsf_fft*np.conj(img_nopsf_fft) / (noise_fft**2   ))\n",
    "snr = np.abs(snr)\n",
    "\n",
    "h_real = np.sqrt((1+np.power(snr_real, -2))/( np.real(psf_fft*np.conj(psf_fft)) + np.power(snr_real,-2)))\n",
    "\n",
    "# fit_snr = fun_fit_snr(img_fft, noise_fft, psf_fft)\n",
    "fit_snr_new, h2 = recon_iter(img_fft, psf_fft, recon_new, 2)\n",
    "fit_snr_wiener, h1 = recon_iter(img_fft, psf_fft, recon_wiener, 2)\n",
    "\n",
    "naive = h2*img_fft\n",
    "wiener = h1*img_fft"
   ]
  },
  {
   "cell_type": "markdown",
   "id": "61a2aaee-56de-496a-b3b2-3d9126a1affe",
   "metadata": {},
   "source": [
    "Plot the signal to noise:"
   ]
  },
  {
   "cell_type": "code",
   "execution_count": 16,
   "id": "bc3b560e-5e02-4315-be7e-60ab5fa9a240",
   "metadata": {},
   "outputs": [
    {
     "name": "stderr",
     "output_type": "stream",
     "text": [
      "/tmp/ipykernel_7267/1973735090.py:2: RuntimeWarning: divide by zero encountered in log10\n",
      "  ys = np.power(10, -2*np.log10(xs) + 1)\n",
      "/home/liza/miniconda3/envs/astro/lib/python3.9/site-packages/matplotlib/cbook/__init__.py:1369: ComplexWarning: Casting complex values to real discards the imaginary part\n",
      "  return np.asarray(x, float)\n"
     ]
    },
    {
     "data": {
      "image/png": "[encoded data removed]",
      "text/plain": [
       "<Figure size 500x300 with 1 Axes>"
      ]
     },
     "metadata": {},
     "output_type": "display_data"
    }
   ],
   "source": [
    "xs = np.arange(img_fft.shape[0])\n",
    "ys = np.power(10, -2*np.log10(xs) + 1)\n",
    "\n",
    "plt.figure(figsize=(5,3))\n",
    "plt.plot(snr_real[:,0], '.-', label='Real SNR')\n",
    "plt.plot(snr[:,0], '.-', label='Noisy SNR')\n",
    "plt.plot(fit_snr_new[:,0], label='Noisy SNR corr')\n",
    "\n",
    "plt.axhline(2, lw=1, color='k')\n",
    "    \n",
    "plt.legend()\n",
    "plt.yscale('log')\n",
    "# plt.ylim(1e-7, 1e2)\n",
    "# plt.xscale('log')"
   ]
  },
  {
   "cell_type": "markdown",
   "id": "746975db-10c2-4a51-935d-9ce185c9c475",
   "metadata": {},
   "source": [
    "Plot H:"
   ]
  },
  {
   "cell_type": "code",
   "execution_count": 17,
   "id": "b8b7c249-dd18-4975-a788-439f4f77d2cd",
   "metadata": {},
   "outputs": [
    {
     "data": {
      "text/plain": [
       "(0.1, 1000.0)"
      ]
     },
     "execution_count": 17,
     "metadata": {},
     "output_type": "execute_result"
    },
    {
     "data": {
      "image/png": "[encoded data removed]",
      "text/plain": [
       "<Figure size 500x300 with 1 Axes>"
      ]
     },
     "metadata": {},
     "output_type": "display_data"
    }
   ],
   "source": [
    "plt.figure(figsize=(5,3))\n",
    "\n",
    "plt.plot( h_real[0], label='True H', color='k')\n",
    "plt.plot( h2[0], label='Noisy H (corr)', color='C2')\n",
    "plt.plot( np.abs(1/psf_fft[0]), label='PSF', color='C3')\n",
    "plt.axhline(1, lw=1, color='k')\n",
    "    \n",
    "plt.legend()\n",
    "plt.yscale('log')\n",
    "plt.ylim(1e-1, 1e3)\n",
    "# plt.xscale('log')"
   ]
  },
  {
   "cell_type": "markdown",
   "id": "c7bfe935-bf1b-4643-a425-19eef5df8c31",
   "metadata": {},
   "source": [
    "Plot the power spectrum:"
   ]
  },
  {
   "cell_type": "code",
   "execution_count": 18,
   "id": "921dfb1b-2bd0-4ba5-b7f7-8aac23dbd57a",
   "metadata": {},
   "outputs": [
    {
     "data": {
      "image/png": "[encoded data removed]",
      "text/plain": [
       "<Figure size 500x300 with 1 Axes>"
      ]
     },
     "metadata": {},
     "output_type": "display_data"
    }
   ],
   "source": [
    "plt.figure(figsize=(5,3))\n",
    "\n",
    "plt.plot( (img_nopsf_fft*np.conj(img_nopsf_fft))[0], label='Source', color='k')\n",
    "plt.plot( (img_fft*np.conj(img_fft))[0], label='Image', color='C0')\n",
    "# plt.plot( (img_fft*np.conj(img_fft)/(psf_fft*np.conj(psf_fft)))[0], label='Image', color='C1')\n",
    "# plt.plot( (h1**2)[0], label='H', color='C3')\n",
    "# plt.plot( np.abs((img_fft*h1)**2)[0], label='Img*H', color='C1')\n",
    "\n",
    "# H_wiener = psf_fft  / (psf_fft*np.conj(psf_fft) + snr_inv_sq)\n",
    "\n",
    "# plt.plot( (wiener*np.conj(wiener))[:,-1], label='Wiener', color='C2')\n",
    "# plt.plot( (bg_fft*np.conj(bg_fft))[0], label='Noise', color='#0003', lw=1)\n",
    "# plt.axhline(noise_fft**2, color='#0003', lw=1)\n",
    "# plt.plot( ((naive*np.conj(naive)))[0], label='Reconstructed', color='C4')\n",
    "# plt.plot( ((img_fft*h_real*np.conj(img_fft*h_real)))[:,-1], label='Naive real', color='C9')\n",
    "# plt.plot(np.abs(low_f[0]), label='low-f', color='C3')\n",
    "# plt.plot( ((H_wiener*np.conj(H_wiener)))[0], color='C2', label='Wiener H', alpha=1)\n",
    "# plt.plot( (1/(psf_fft*np.conj(psf_fft)))[0], color='C3', label='Wiener H', alpha=1, ls='--')\n",
    "\n",
    "     \n",
    "plt.axhline(noise_fft**2, color='k', alpha=0.5, lw=0.5)\n",
    "plt.legend()\n",
    "plt.ylim(1e-3, 1e14)\n",
    "plt.yscale('log')"
   ]
  },
  {
   "cell_type": "markdown",
   "id": "c0da0d1d-709b-400b-b89e-477cf652cbd0",
   "metadata": {},
   "source": [
    "Look at the reconstructed images and total fluxes:"
   ]
  },
  {
   "cell_type": "code",
   "execution_count": 19,
   "id": "9c1364c0-ec77-4ecd-b6f6-b05b17c53d3c",
   "metadata": {},
   "outputs": [
    {
     "name": "stdout",
     "output_type": "stream",
     "text": [
      "Total fluxes (1e8 e-):\n",
      "====================\n",
      "Source: 7.40748352\n",
      "Image: 5.928249434067119\n",
      "Noisy, no seeing 7.407483317235509\n",
      "---\n",
      "Wiener: 1.038430306107609e+17\n",
      "Naive: 2.9293363863140983e+19\n",
      "Naive real: 234069942.3523098\n"
     ]
    },
    {
     "data": {
      "image/png": "[encoded data removed]",
      "text/plain": [
       "<Figure size 750x150 with 5 Axes>"
      ]
     },
     "metadata": {},
     "output_type": "display_data"
    }
   ],
   "source": [
    "# img_wiener = wiener(img_fft, psf_fft, noise_fft)#, img_nopsf_fft)\n",
    "# naive = img_fft * h2\n",
    "\n",
    "recon = np.abs(fft.ifft2(wiener, norm=fft_norm))\n",
    "# recon2 = np.abs(fft.ifft2(img_fft*h1, norm=fft_norm))\n",
    "recon2 = np.abs(fft.ifft2(naive, norm=fft_norm))\n",
    "\n",
    "fig, axs = plt.subplots(1, 5, figsize=(7.5,1.5))\n",
    "axs[0].imshow(img_nopsf, vmin=-200, vmax=1000); axs[0].set_title('Source')\n",
    "axs[1].imshow(img_psf, vmin=-200, vmax=1000); axs[1].set_title('Source+PSF')\n",
    "axs[2].imshow(recon, vmin=-200, vmax=1000); axs[2].set_title('Wiener deconv.')\n",
    "axs[3].imshow(recon2, vmin=-200, vmax=1000); axs[3].set_title('My deconv.')\n",
    "# axs[4].imshow(recon2, vmin=-200, vmax=1500); axs[4].set_title('Recon. [known SNR]')\n",
    "\n",
    "for ax in axs:\n",
    "    ax.axis('off')\n",
    "plt.subplots_adjust(wspace=0.05)\n",
    "\n",
    "print('Total fluxes (1e8 e-):')\n",
    "print('====================')\n",
    "print('Source:' , np.sum(img_nopsf**2)/1e8)\n",
    "print('Image:', (np.sum(img_psf**2) - (noise*N)**2)/1e8 )\n",
    "print('Noisy, no seeing', (np.sum( (img_nopsf+bg)**2) - (noise*N)**2)/1e8)\n",
    "print('---')\n",
    "print('Wiener:' , np.sum(np.abs(wiener**2))/1e8/N**2)\n",
    "print('Naive:', ( ( np.sum(np.real(naive*np.conj(naive))) - (noise_fft*N)**2) /N**2  /1e8   ))\n",
    "print('Naive real:', ( ( np.sum(np.real(img_fft*h_real*np.conj(img_fft*h_real))) - (noise_fft*N)**2) /N**2  /1e8   ))\n"
   ]
  },
  {
   "cell_type": "code",
   "execution_count": 20,
   "id": "c031af1b-6fa6-4a75-bd55-a9dfb5c9bb46",
   "metadata": {},
   "outputs": [],
   "source": [
    "# img_wiener = wiener(img_fft, psf_fft, noise_fft, img_nopsf_fft)\n",
    "# # noise_sq = noise_fft**2 + img_nopsf_fft\n",
    "# # snr_inv_sq = noise_sq / (img_nopsf_fft*np.conj(img_nopsf_fft))\n",
    "# naive = img_fft * h1#np.sqrt( (1 + snr_inv_sq) / ( psf_fft*np.conj(psf_fft) + snr_inv_sq) )\n",
    "\n",
    "# recon = np.abs(fft.ifft2(img_wiener, norm=fft_norm))\n",
    "# # recon2 = np.abs(fft.ifft2(img_fft*h1, norm=fft_norm))\n",
    "# recon2 = np.abs(fft.ifft2(img_fft*h1, norm=fft_norm))\n",
    "\n",
    "\n",
    "# fig, axs = plt.subplots(1, 4, figsize=(6,1.5))\n",
    "# axs[0].imshow(img_nopsf, vmin=-200, vmax=1000); axs[0].set_title('Source')\n",
    "# axs[1].imshow(img_psf, vmin=-200, vmax=1000); axs[1].set_title('Source+PSF')\n",
    "# axs[2].imshow(recon, vmin=-200, vmax=1000); axs[2].set_title('Wiener recon.')\n",
    "# axs[3].imshow(recon2, vmin=-200, vmax=1000); axs[3].set_title('Recon.')\n",
    "\n",
    "# for ax in axs:\n",
    "#     ax.axis('off')\n",
    "# plt.subplots_adjust(wspace=0.05)\n",
    "\n",
    "# print('Source:' , np.sum(img_nopsf**2)/1e8)\n",
    "# print('Image:', (np.sum(img_psf**2) - (noise*N)**2)/1e8 )\n",
    "# print('Noisy, no seeing', (np.sum( (img_nopsf+bg)**2) - (noise*N)**2)/1e8)\n",
    "# print('---')\n",
    "# print('Wiener:' , np.sum(np.abs(img_wiener**2))/1e8/N**2)\n",
    "# print('Naive:', ( ( np.sum(np.real(naive*np.conj(naive))) - (noise_fft*N)**2) /N**2  /1e8   ))\n"
   ]
  },
  {
   "cell_type": "markdown",
   "id": "570f95dc-31bd-46cc-b3e1-5a4e17e84859",
   "metadata": {},
   "source": [
    "Calculate asymmetry:"
   ]
  },
  {
   "cell_type": "code",
   "execution_count": 21,
   "id": "6a20895b-19d0-4577-b8b7-f665d7b72f0a",
   "metadata": {},
   "outputs": [
    {
     "data": {
      "text/plain": [
       "0.13992929208684046"
      ]
     },
     "execution_count": 21,
     "metadata": {},
     "output_type": "execute_result"
    }
   ],
   "source": [
    "(np.sum( (recon2 - T.rotate(recon2, 180, order=0))**2 ) - 2*(N*noise)**2)/(np.sum(recon2**2) - (N*noise)**2)"
   ]
  },
  {
   "cell_type": "code",
   "execution_count": 22,
   "id": "aa3edb65-5f79-4bb1-8a8b-ae9d00641d30",
   "metadata": {},
   "outputs": [
    {
     "name": "stdout",
     "output_type": "stream",
     "text": [
      "True A: 0.20663083\n",
      "Recovered A: 3.8323611701492544\n"
     ]
    }
   ],
   "source": [
    "img_rotated = T.rotate(img_nopsf, 180, order=0)\n",
    "img_rotated_fft = fft.fft2(T.rotate(img_psf, 180, order=0))\n",
    "\n",
    "true_a = np.sum( (img_nopsf-img_rotated)**2) / np.sum(img_nopsf**2)\n",
    "\n",
    "rec_top = img_fft-img_rotated_fft\n",
    "rec_top = np.sum(np.real(rec_top*np.conj(rec_top)*h2**2))/N**2 - 2*(N*noise)**2\n",
    "rec_bot = np.sum(img_fft*h2*np.conj(img_fft*h2))/N**2 - (N*noise)**2\n",
    "rec_a = np.abs(rec_top / rec_bot)\n",
    "\n",
    "print('True A:', true_a)\n",
    "print('Recovered A:', rec_a)"
   ]
  },
  {
   "cell_type": "markdown",
   "id": "0c0f6b92-fa45-428f-920b-317046cd23b7",
   "metadata": {},
   "source": [
    "Try this for a range of seeing, noise:"
   ]
  },
  {
   "cell_type": "code",
   "execution_count": null,
   "id": "e162dbff-5cba-4adb-9466-86e9041175ea",
   "metadata": {},
   "outputs": [],
   "source": [
    "def get_fluxes(noise, psf_fwhm, pxscale=0.05,  use_moffat=False):\n",
    "    \n",
    "    # Generate galaxies\n",
    "    field_image, galaxy, r_pet = get_perfect_galaxy(mag, r, fov_reff=10.5, pxscale=pxscale, q=q, return_image=False)\n",
    "    img_nopsf, _ = get_realistic_galaxy(field_image, galaxy, r_pet, mag, pxscale=pxscale,\n",
    "                                   sky_mag=None, n_clumps=len(clump_properties['r']), psf_fwhm=0, \n",
    "                                   clump_properties=clump_properties, use_moffat=use_moffat)\n",
    "    img_psf, noise = get_realistic_galaxy(field_image, galaxy, r_pet, mag, pxscale=pxscale,\n",
    "                                   sky_mag=noise, n_clumps=len(clump_properties['r']), psf_fwhm=psf_fwhm, \n",
    "                                   clump_properties=clump_properties, use_moffat=use_moffat)\n",
    "    N = img_psf.shape[0]\n",
    "    noise_fft = noise * N\n",
    "    \n",
    "    # Generate PSF\n",
    "    # psf_fwhm = np.abs(psf_fwhm + norm.rvs(loc=0, scale=0.1, size=1))\n",
    "    psf_std = psf_fwhm * gaussian_fwhm_to_sigma / pxscale\n",
    "    # power = 2.45\n",
    "    # psf_std = (psf_fwhm/pxscale) / np.sqrt( 8 * (power-1) * (2**(1/power) - 1 ) )\n",
    "    psf = Gaussian2DKernel(x_stddev=psf_std, x_size=N, y_size=N)\n",
    "    \n",
    "    # Convert to Fourier space\n",
    "    img_fft =(fft.fft2(img_psf))\n",
    "    psf_fft = (fft.fft2(fft.fftshift(psf)))\n",
    "    \n",
    "    # Method 1: Wiener transform\n",
    "    img_wiener = wiener(img_fft, psf_fft, noise_fft)\n",
    "    \n",
    "    # Get rid of small modes that will blow up the result\n",
    "    psf_fft[np.log10(np.abs(psf_fft)) < -2] = 1e-2\n",
    "    \n",
    "    # Compute the deconvolved image in PSF space\n",
    "    deconv_fft = img_fft / psf_fft\n",
    "\n",
    "    # Calculate total fluxes\n",
    "    source_flux = np.sum(img_nopsf**2) / pxscale**2\n",
    "    image_flux = np.sum(img_psf**2)/ pxscale**2\n",
    "    corr_flux = np.sum( np.abs(deconv_fft)**2 ) / N**2 / pxscale**2 \n",
    "    \n",
    "    return np.array([source_flux, image_flux, corr_flux])\n",
    "\n",
    "\n",
    "num_points = 30\n",
    "pxscales = np.linspace(0.1,2.0, num_points)\n",
    "seeings = np.linspace(0.1,2.0, num_points)\n",
    "\n",
    "fluxes = np.zeros((num_points, num_points, 3))\n",
    "\n",
    "for i, pxscale in tqdm(enumerate(pxscales), total=num_points):\n",
    "    for j, seeing in enumerate(seeings):\n",
    "\n",
    "        fluxes[i,j,:] = get_fluxes(pxscale, seeing, use_moffat=True)\n",
    "        \n",
    "        \n",
    "error_image = (fluxes[:,:,1] - fluxes[:,:,0])/fluxes[:,:,0]\n",
    "error_corr = (fluxes[:,:,2] - fluxes[:,:,0])/fluxes[:,:,0]\n",
    "\n"
   ]
  },
  {
   "cell_type": "markdown",
   "id": "3d0567be-8aba-45b0-af9f-b57e7db23468",
   "metadata": {},
   "source": [
    "Plot:"
   ]
  },
  {
   "cell_type": "code",
   "execution_count": null,
   "id": "f62d234f-fa0e-4a45-a754-58ae45c1dbc1",
   "metadata": {},
   "outputs": [],
   "source": [
    "PXSCALE, SEEING = np.meshgrid(pxscales, seeings)\n",
    "cmap = plt.get_cmap('bwr')\n",
    "cmap.set_extremes(under='#ff0', over='#f0f')\n",
    "\n",
    "fig, axs = plt.subplots(1,2, figsize=(7, 3), sharey=True)\n",
    "axs[0].pcolormesh(PXSCALE, SEEING, error_image, vmax=0.2, vmin=-0.2, cmap='bwr')\n",
    "im = axs[1].pcolormesh(PXSCALE, SEEING, error_corr, vmax=0.2, vmin=-0.2, cmap='bwr')\n",
    "\n",
    "for ax in axs:\n",
    "    ax.fill_between([0,2], [0,1], [2,2], color='k', alpha=0.08)\n",
    "    ax.plot([0,2], [0,1], color='k', lw=0.5, alpha=0.3)\n",
    "    ax.set_xlim(pxscales[0], pxscales[-1])\n",
    "    ax.set_ylim(seeings[0], seeings[-1])\n",
    "axs[0].annotate('Nyquist sampling', xy=(1.65, 1.65/2+0.05), rotation=25.3, ha='center', va='center', size=8)\n",
    "\n",
    "plt.subplots_adjust(wspace=0.05, right=0.94)\n",
    "cax = fig.add_axes([0.95,0,0.02,1])\n",
    "cbar = fig.colorbar(im, cax=cax)\n",
    "cbar.set_label(r'$\\Delta$ f$^2$ / f$^2$')\n",
    "\n",
    "axs[0].set_xlabel('Seeing [arcsec]')\n",
    "axs[1].set_xlabel('Seeing [arcsec]')\n",
    "axs[0].set_ylabel('Pixel scale [arcsec]')"
   ]
  },
  {
   "cell_type": "code",
   "execution_count": 258,
   "id": "00700827-8c83-456c-9dee-32b780d8085b",
   "metadata": {},
   "outputs": [],
   "source": [
    "test = 'abcdefg'"
   ]
  },
  {
   "cell_type": "code",
   "execution_count": 262,
   "id": "00d1f462-6be2-4b9c-ab80-b89073b8d17d",
   "metadata": {},
   "outputs": [
    {
     "ename": "TypeError",
     "evalue": "'str' object does not support item assignment",
     "output_type": "error",
     "traceback": [
      "\u001b[0;31m---------------------------------------------------------------------------\u001b[0m",
      "\u001b[0;31mTypeError\u001b[0m                                 Traceback (most recent call last)",
      "Cell \u001b[0;32mIn[262], line 1\u001b[0m\n\u001b[0;32m----> 1\u001b[0m test[\u001b[38;5;241m-\u001b[39m\u001b[38;5;241m4\u001b[39m:] \u001b[38;5;241m=\u001b[39m \u001b[38;5;124m'\u001b[39m\u001b[38;5;124m####\u001b[39m\u001b[38;5;124m'\u001b[39m\n",
      "\u001b[0;31mTypeError\u001b[0m: 'str' object does not support item assignment"
     ]
    }
   ],
   "source": [
    "test[-4:] = '####'"
   ]
  },
  {
   "cell_type": "code",
   "execution_count": null,
   "id": "8cda5f7a-2bf2-467c-a155-7ed5c589ca84",
   "metadata": {},
   "outputs": [],
   "source": []
  }
 ],
 "metadata": {
  "kernelspec": {
   "display_name": "Python 3 (ipykernel)",
   "language": "python",
   "name": "python3"
  },
  "language_info": {
   "codemirror_mode": {
    "name": "ipython",
    "version": 3
   },
   "file_extension": ".py",
   "mimetype": "text/x-python",
   "name": "python",
   "nbconvert_exporter": "python",
   "pygments_lexer": "ipython3",
   "version": "3.9.16"
  }
 },
 "nbformat": 4,
 "nbformat_minor": 5
}
