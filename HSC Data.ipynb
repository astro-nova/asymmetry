{
 "cells": [
  {
   "cell_type": "markdown",
   "id": "613b9dc9-e68f-449e-9e85-267fe098c234",
   "metadata": {},
   "source": [
    "# HSC data\n",
    "\n",
    "The cutouts are already made centered on the ra, dec of the galaxy with a 40 arcsec radius. We choose the `coadd/bg` option to avoid the aggressive background subtraction that shreds the extended wings of our galaxies.\n",
    "\n",
    "1. Align the data with North\n",
    "2. Add the PSF from the [PSF picker](https://hsc-release.mtk.nao.ac.jp/psf/pdr3/)\n",
    "    * Make sure the PSF is for the same run as the data\n",
    "    \n",
    "...Actually, the PSF picker didn't return all galaxies, so could just do this by hand?\n",
    "#### Imports"
   ]
  },
  {
   "cell_type": "code",
   "execution_count": 1,
   "id": "808aa9ae-0d3c-4790-baa2-cb4ba3a21d13",
   "metadata": {},
   "outputs": [],
   "source": [
    "import numpy as np\n",
    "import matplotlib.pyplot as plt\n",
    "from astropy.io import fits\n",
    "import pandas as pd\n",
    "from astropy.wcs import WCS\n",
    "from astropy.nddata import bitfield_to_boolean_mask\n",
    "from tqdm.notebook import tqdm"
   ]
  },
  {
   "cell_type": "markdown",
   "id": "45b6defe-df00-42b8-93cc-453787b27417",
   "metadata": {},
   "source": [
    "## Organize the data\n",
    "\n",
    "The default name of the HSC download is `[line number]-coadd+bg-HSC-[FILTER]-[tract number]-[rerun].fits` where\n",
    "* `[line number]` is the line number in the input CSV file\n",
    "* `[filter]` is `I`\n",
    "* `[tract number]` is a four or five digit number\n",
    "* `[rerun]` is `pdr3_wide` or `pdr3_dud_rev`"
   ]
  },
  {
   "cell_type": "markdown",
   "id": "40729eca-8a1d-4d6d-aa98-519b98f3e960",
   "metadata": {},
   "source": [
    "Load in the galaxies list:"
   ]
  },
  {
   "cell_type": "code",
   "execution_count": 2,
   "id": "eb834c39-2937-4a25-b30a-872dc936ea54",
   "metadata": {},
   "outputs": [
    {
     "data": {
      "text/html": [
       "<div>\n",
       "<style scoped>\n",
       "    .dataframe tbody tr th:only-of-type {\n",
       "        vertical-align: middle;\n",
       "    }\n",
       "\n",
       "    .dataframe tbody tr th {\n",
       "        vertical-align: top;\n",
       "    }\n",
       "\n",
       "    .dataframe thead th {\n",
       "        text-align: right;\n",
       "    }\n",
       "</style>\n",
       "<table border=\"1\" class=\"dataframe\">\n",
       "  <thead>\n",
       "    <tr style=\"text-align: right;\">\n",
       "      <th></th>\n",
       "      <th>name</th>\n",
       "      <th>ra</th>\n",
       "      <th>dec</th>\n",
       "      <th>lmass50</th>\n",
       "      <th>z</th>\n",
       "      <th>dataset</th>\n",
       "      <th>cfis</th>\n",
       "      <th>hsc</th>\n",
       "    </tr>\n",
       "  </thead>\n",
       "  <tbody>\n",
       "    <tr>\n",
       "      <th>0</th>\n",
       "      <td>J000318+004844</td>\n",
       "      <td>0.825888</td>\n",
       "      <td>0.812301</td>\n",
       "      <td>10.820000</td>\n",
       "      <td>0.138889</td>\n",
       "      <td>spog</td>\n",
       "      <td>False</td>\n",
       "      <td>True</td>\n",
       "    </tr>\n",
       "    <tr>\n",
       "      <th>1</th>\n",
       "      <td>J001145-005431</td>\n",
       "      <td>2.938389</td>\n",
       "      <td>-0.908503</td>\n",
       "      <td>10.221996</td>\n",
       "      <td>0.047883</td>\n",
       "      <td>spog</td>\n",
       "      <td>False</td>\n",
       "      <td>True</td>\n",
       "    </tr>\n",
       "  </tbody>\n",
       "</table>\n",
       "</div>"
      ],
      "text/plain": [
       "             name        ra       dec    lmass50         z dataset   cfis  \\\n",
       "0  J000318+004844  0.825888  0.812301  10.820000  0.138889    spog  False   \n",
       "1  J001145-005431  2.938389 -0.908503  10.221996  0.047883    spog  False   \n",
       "\n",
       "    hsc  \n",
       "0  True  \n",
       "1  True  "
      ]
     },
     "execution_count": 2,
     "metadata": {},
     "output_type": "execute_result"
    }
   ],
   "source": [
    "data = pd.read_csv('data/catalogs/data.csv')\n",
    "# hsc_cat = data[data.hsc]\n",
    "data.head(2)"
   ]
  },
  {
   "cell_type": "markdown",
   "id": "f5c2adfa-c958-4066-9e23-aff81ec1dfa2",
   "metadata": {},
   "source": [
    "For galaxies with HSC data, save their tract number and rerun"
   ]
  },
  {
   "cell_type": "code",
   "execution_count": 3,
   "id": "51fb9d37-9cc2-4a35-8a73-b0c9c919aba8",
   "metadata": {},
   "outputs": [],
   "source": [
    "hsc_files = ! ls data/hsc/raw/\n",
    "hsc_files = [f[:-5] for f in hsc_files]\n",
    "\n",
    "# Extract line number, tract number, and rerun info\n",
    "hsc_cat = []\n",
    "for filename in hsc_files:\n",
    "    vals = filename.split('-')\n",
    "    row = {'idx' : int(vals[0])-2, 'tract' : int(vals[4]), 'rerun' : vals[-1], 'filename' : filename}\n",
    "    hsc_cat.append(row)\n",
    "hsc_cat = pd.DataFrame(hsc_cat)\n",
    "hsc_cat.index = hsc_cat.idx\n",
    "hsc_cat = pd.merge(data, hsc_cat, left_index=True, right_index=True).reset_index().drop(columns=['idx', 'index'])\n",
    "# hsc_cat.to_csv('data/catalogs/hsc.csv', index=False)"
   ]
  },
  {
   "cell_type": "markdown",
   "id": "a1c922bb-2697-4f42-8eb6-b758ed5dad31",
   "metadata": {},
   "source": [
    "## PSF\n",
    "\n",
    "Generate a coordinate list to download the PSFs in bulk."
   ]
  },
  {
   "cell_type": "code",
   "execution_count": 4,
   "id": "16722a81-3a91-45b8-922a-0621febaba42",
   "metadata": {},
   "outputs": [],
   "source": [
    "psf_cat = hsc_cat[['ra','dec','tract','rerun']].copy()\n",
    "psf_cat['filter'] = 'i'\n",
    "psf_cat['type'] = 'coadd'\n",
    "psf_cat.to_csv('data/catalogs/hsc_psfs.csv', index=False, sep='\\t')"
   ]
  },
  {
   "cell_type": "markdown",
   "id": "11dc2cf7-ae1e-4d9d-ab06-a897b1b70eda",
   "metadata": {},
   "source": [
    "Get the list of PSF files:"
   ]
  },
  {
   "cell_type": "code",
   "execution_count": 5,
   "id": "ef076126-1309-4217-b52e-a0a4abd60ed7",
   "metadata": {},
   "outputs": [],
   "source": [
    "psffiles = ! ls data/hsc/psf\n",
    "psffiles = [f[:-5] for f in psffiles]\n",
    "psf_names = []\n",
    "for filename in psffiles:\n",
    "    vals = filename.split('-')\n",
    "    row = {'idx' : int(vals[0])-2, 'psf_file' : filename}\n",
    "    psf_names.append(row)\n",
    "psf_names = pd.DataFrame(psf_names)\n",
    "psf_names.index = psf_names.idx\n",
    "psf_names.drop(columns=['idx'], inplace=True)\n",
    "\n",
    "hsc_cat = pd.merge(hsc_cat, psf_names, left_index=True, right_index=True)\n",
    "hsc_cat.to_csv('data/catalogs/hsc.csv', index=False)"
   ]
  },
  {
   "cell_type": "markdown",
   "id": "7651d816-2a35-40e8-9c63-9de194c8ad0d",
   "metadata": {},
   "source": [
    "## Attach the PSF\n",
    "\n",
    "For each galaxy, read in the PSF file and attach it as a FITS extension"
   ]
  },
  {
   "cell_type": "code",
   "execution_count": 6,
   "id": "87836f33-b75f-45d7-8864-a38869693f08",
   "metadata": {},
   "outputs": [],
   "source": [
    "for idx, row in hsc_cat.iterrows():\n",
    "    \n",
    "    galaxy_f = fits.open(f'data/hsc/raw/{row.filename}.fits')\n",
    "    psf_f = fits.open(f'data/hsc/psf/{row.psf_file}.fits')\n",
    "    \n",
    "    galaxy_f.append(psf_f[0])\n",
    "    galaxy_f.writeto(f'data/hsc/{row[\"name\"]}.fits', overwrite=True)\n",
    "    psf_f.close()\n",
    "    galaxy_f.close()\n",
    "    "
   ]
  },
  {
   "cell_type": "markdown",
   "id": "6a3f2721-f244-4d07-aed1-7b5c60e361fd",
   "metadata": {},
   "source": [
    "## Fix the file\n",
    "\n",
    "We want all data to have a 4-extension FITS file, each HDU containing image -> err -> mask -> psf respectively. We also want each HDU to have an `EXTNAME` equal to `IMAGE`, `ERR`, `MASK`, or `PSF`."
   ]
  },
  {
   "cell_type": "code",
   "execution_count": 7,
   "id": "a33f9460-fd33-4166-9743-71302502e742",
   "metadata": {
    "tags": []
   },
   "outputs": [
    {
     "data": {
      "application/vnd.jupyter.widget-view+json": {
       "model_id": "f0fc480acd8540d2808d757a69e8e2c6",
       "version_major": 2,
       "version_minor": 0
      },
      "text/plain": [
       "  0%|          | 0/30 [00:00<?, ?it/s]"
      ]
     },
     "metadata": {},
     "output_type": "display_data"
    }
   ],
   "source": [
    "for idx, row in tqdm(data[data.hsc].iterrows(), total=len(data[data.hsc])):\n",
    "    \n",
    "    galaxy_f = fits.open(f'data/hsc/{row[\"name\"]}.fits')\n",
    "    \n",
    "    # Resize the images so they are all 80x80\" squared\n",
    "    size = int(80/0.168 + 0.5)\n",
    "    \n",
    "    # Fix order and add extanmes\n",
    "    hdus = [galaxy_f[1], galaxy_f[3], galaxy_f[2], galaxy_f[4]]\n",
    "    names = ['IMAGE', 'ERR', 'MASK', 'PSF']\n",
    "    for hdu, name in zip(hdus, names):\n",
    "        if name != 'PSF':\n",
    "            img = hdu.data[:size, :size]\n",
    "            hdu.data = img\n",
    "        hdu.header['EXTNAME'] = name\n",
    "        \n",
    "    # Add the FLUXMAG0 keyword to header\n",
    "    hdus[0].header['FLUXMAG0'] = galaxy_f[0].header['FLUXMAG0']\n",
    "        \n",
    "    # Fix the mask\n",
    "    things_to_ignore = [2, 5, 6, 9, 10, 11, 13, 14, 15, 16]\n",
    "    things_to_ignore = [ 1, 2, 3, 5, 6, 9, 10, 11, 13, 14, 15, 16] # Keep CR pixels, they are interpolated over. Ignore saturated pixels.\n",
    "    mask = bitfield_to_boolean_mask(galaxy_f[\"MASK\"].data, ignore_flags=[2**n for n in things_to_ignore]).astype(int)\n",
    "    hdus[2].data = mask\n",
    "    \n",
    "    # Make the image a primary HDU\n",
    "    hdus[0] = fits.PrimaryHDU(hdus[0].data, hdus[0].header)\n",
    "    \n",
    "    # Save file\n",
    "    hdul = fits.HDUList(hdus)\n",
    "    hdul.writeto(f'data/hsc/{row[\"name\"]}.fits', overwrite=True)\n",
    "    \n",
    "    galaxy_f.close()    "
   ]
  },
  {
   "cell_type": "code",
   "execution_count": null,
   "id": "42415916-de0f-448d-b548-2e70703042e3",
   "metadata": {},
   "outputs": [],
   "source": []
  }
 ],
 "metadata": {
  "kernelspec": {
   "display_name": "Python 3 (ipykernel)",
   "language": "python",
   "name": "python3"
  },
  "language_info": {
   "codemirror_mode": {
    "name": "ipython",
    "version": 3
   },
   "file_extension": ".py",
   "mimetype": "text/x-python",
   "name": "python",
   "nbconvert_exporter": "python",
   "pygments_lexer": "ipython3",
   "version": "3.9.16"
  }
 },
 "nbformat": 4,
 "nbformat_minor": 5
}
