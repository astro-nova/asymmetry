{
 "cells": [
  {
   "cell_type": "code",
   "execution_count": 147,
   "id": "196f4be1-59a6-466e-ac53-cbb8acbb9493",
   "metadata": {},
   "outputs": [],
   "source": [
    "from astropy.io import fits\n",
    "import matplotlib.pyplot as plt\n",
    "from scipy.stats import skew\n",
    "import pandas as pd\n",
    "import numpy as np\n",
    "import photutils as phot\n",
    "from astropy.cosmology import WMAP9 as cosmo"
   ]
  },
  {
   "cell_type": "code",
   "execution_count": 154,
   "id": "6d74be3b-5488-465c-b0be-ad5d2b3c6cb5",
   "metadata": {},
   "outputs": [],
   "source": [
    "df = pd.read_csv('../random/spogs_mergers_gz.csv')\n",
    "morph = pd.read_fwf('../random/table6.dat', names=['name','ra','dec','lmass','z','sample','survey','filt','depth','psf','pxscale','qgname','sfgname','a','a_s','c','gini','m20','giniB','giniM','n','rff_in','rff','rff_out','b_t','rpet_kpc'])\n",
    "# df[df.name =='J002232+002127']\n",
    "morph = morph[morph.survey == 'SDSS']\n",
    "\n",
    "def get_rpet_px(x):\n",
    "    factor = cosmo.arcsec_per_kpc_proper(x.z) # arcsec/kpc\n",
    "    return (x.rpet_kpc * factor / 0.396).value\n",
    "\n",
    "morph['rpet_px'] = morph.apply(lambda x: get_rpet_px(x), axis=1)\n",
    "df = pd.merge(morph, df, left_on='name', right_on='name')"
   ]
  },
  {
   "cell_type": "code",
   "execution_count": 175,
   "id": "16c9dec1-eca8-45e1-8324-6f8a3fdfd44b",
   "metadata": {},
   "outputs": [
    {
     "name": "stderr",
     "output_type": "stream",
     "text": [
      "/tmp/ipykernel_19650/1816806330.py:17: DeprecationWarning: `photutils.ApertureStats` is a deprecated alias for `photutils.aperture.ApertureStats` and will be removed in the future. Instead, please use `from photutils.aperture import ApertureStats` to silence this warning.\n",
      "  std = phot.ApertureStats(img, ap).std\n"
     ]
    }
   ],
   "source": [
    "iqrs = []\n",
    "skews = []\n",
    "\n",
    "for idx, row in df.iterrows():\n",
    "    \n",
    "    r = 1.5*row.rpet_px\n",
    "\n",
    "    f1 = fits.open(f'data/sdss/i/{row[\"name\"]}.fits')\n",
    "    img = f1[0].data\n",
    "    xc = img.shape[0]/2\n",
    "\n",
    "    ap = phot.aperture.CircularAperture((xc,xc), r)\n",
    "    stats = phot.aperture.ApertureStats(img, ap)\n",
    "    sigma = stats.std\n",
    "\n",
    "    mask = ap.to_mask().to_image(f1[0].data.shape).astype(bool)\n",
    "    std = phot.ApertureStats(img, ap).std\n",
    "    mask = ~mask | (img>std)\n",
    "\n",
    "    masked = img[~mask]\n",
    "    img_masked = img.copy()\n",
    "    img_masked[mask] = np.nan\n",
    "\n",
    "    qs = np.quantile(masked, q=[0.25,0.5,0.75])\n",
    "    iqr = (qs[2]-qs[1])/(qs[1]-qs[0]) \n",
    "    skewness = skew(masked)\n",
    "\n",
    "    iqrs.append(iqr)\n",
    "    skews.append(skewness)\n",
    "    \n",
    "df['iqr'] = iqrs\n",
    "df['skew'] = skews"
   ]
  },
  {
   "cell_type": "code",
   "execution_count": 178,
   "id": "f48a1bbe-b5f2-4006-9956-de28e909ec38",
   "metadata": {},
   "outputs": [
    {
     "data": {
      "text/plain": [
       "<matplotlib.collections.PathCollection at 0x7f0a518a4f40>"
      ]
     },
     "execution_count": 178,
     "metadata": {},
     "output_type": "execute_result"
    },
    {
     "data": {
      "image/png": "[encoded data removed]",
      "text/plain": [
       "<Figure size 400x300 with 1 Axes>"
      ]
     },
     "metadata": {},
     "output_type": "display_data"
    }
   ],
   "source": [
    "plt.figure(figsize=(4,3))\n",
    "plt.scatter(df['skew'], df.iqr)"
   ]
  },
  {
   "cell_type": "code",
   "execution_count": 160,
   "id": "99ab9ac8-e685-4679-b17f-89853cc20787",
   "metadata": {},
   "outputs": [],
   "source": [
    "# fig, axs = plt.subplots(1,2,figsize=(8,4))\n",
    "# axs[0].imshow(img_masked)\n",
    "# axs[0].set_xlim(xc-2*r,xc+2*r)\n",
    "# axs[0].set_ylim(xc-2*r,xc+2*r)\n",
    "\n",
    "# axs[1].hist(img_masked.flatten(), bins=31);#np.linspace(-0.3, 1.5, 31));"
   ]
  },
  {
   "cell_type": "code",
   "execution_count": null,
   "id": "571e56cd-5c0e-4913-b8e8-881a11550188",
   "metadata": {},
   "outputs": [],
   "source": []
  }
 ],
 "metadata": {
  "kernelspec": {
   "display_name": "Python 3 (ipykernel)",
   "language": "python",
   "name": "python3"
  },
  "language_info": {
   "codemirror_mode": {
    "name": "ipython",
    "version": 3
   },
   "file_extension": ".py",
   "mimetype": "text/x-python",
   "name": "python",
   "nbconvert_exporter": "python",
   "pygments_lexer": "ipython3",
   "version": "3.9.16"
  }
 },
 "nbformat": 4,
 "nbformat_minor": 5
}
