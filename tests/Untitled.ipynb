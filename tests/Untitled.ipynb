{
 "cells": [
  {
   "cell_type": "code",
   "execution_count": 2,
   "id": "de1da919-ac4c-4d88-86e3-b290a46c862e",
   "metadata": {},
   "outputs": [],
   "source": [
    "from scipy.stats import norm\n",
    "import numpy as np\n",
    "import matplotlib.pyplot as plt"
   ]
  },
  {
   "cell_type": "code",
   "execution_count": 33,
   "id": "84e96167-197a-41ae-88bb-a0a9edfc1098",
   "metadata": {},
   "outputs": [],
   "source": [
    "xs = np.linspace(-3, 3)\n",
    "s = 1\n",
    "\n",
    "G = np.exp(-xs**2 / (2*s**2)) / (np.sqrt(2*np.pi)*s)\n",
    "\n",
    "# Constant function\n",
    "G1 = np.zeros_like(xs)\n",
    "G1[(xs <= s) & (xs >= -s)] = 1\n",
    "G1 /= 2*s\n",
    "\n",
    "# Traingular function\n",
    "G2 = -1*np.sign(xs)*xs / (2*s) + 1\n",
    "G2[(xs < -2*s) | (xs > 2*s)] = 0\n",
    "G2 /= 2*s\n"
   ]
  },
  {
   "cell_type": "code",
   "execution_count": 35,
   "id": "9185b68a-a763-4dcf-a463-d1bad6629131",
   "metadata": {},
   "outputs": [
    {
     "data": {
      "text/plain": [
       "(-0.1, 1.5)"
      ]
     },
     "execution_count": 35,
     "metadata": {},
     "output_type": "execute_result"
    },
    {
     "data": {
      "image/png": "[encoded data removed]",
      "text/plain": [
       "<Figure size 250x250 with 1 Axes>"
      ]
     },
     "metadata": {},
     "output_type": "display_data"
    }
   ],
   "source": [
    "plt.plot(xs, G)\n",
    "plt.plot(xs, G1)\n",
    "plt.plot(xs, G2)\n",
    "\n",
    "plt.xlim(-4,4)\n",
    "plt.ylim(-0.1, 1.5)"
   ]
  },
  {
   "cell_type": "code",
   "execution_count": 8,
   "id": "6b76651d-52ff-4b8b-9374-bb8e5cb3e9fe",
   "metadata": {},
   "outputs": [],
   "source": [
    "%reload_ext autoreload\n",
    "%autoreload 2\n",
    "import sys\n",
    "sys.path.append('../')\n",
    "from galaxy_generator import simuale_perfect_galaxy, add_source_to_image, sky_noise"
   ]
  },
  {
   "cell_type": "code",
   "execution_count": 9,
   "id": "31d22150-4a6c-4491-af6d-42047c327d15",
   "metadata": {},
   "outputs": [
    {
     "name": "stdout",
     "output_type": "stream",
     "text": [
      "passband_sdss_r\n"
     ]
    },
    {
     "ename": "GalSimIncompatibleValuesError",
     "evalue": "red_limit and blue_limit are required if throughput is not a LookupTable. Values {'blue_limit': None, 'red_limit': None, 'throughput': 'passband_sdss_r'}",
     "output_type": "error",
     "traceback": [
      "\u001b[0;31m---------------------------------------------------------------------------\u001b[0m",
      "\u001b[0;31mGalSimIncompatibleValuesError\u001b[0m             Traceback (most recent call last)",
      "Cell \u001b[0;32mIn[9], line 1\u001b[0m\n\u001b[0;32m----> 1\u001b[0m perfect_img, params, rpet \u001b[38;5;241m=\u001b[39m simuale_perfect_galaxy(\u001b[38;5;241m15\u001b[39m, \u001b[38;5;241m5\u001b[39m, \u001b[38;5;241m0.3\u001b[39m, \u001b[38;5;241m21\u001b[39m, \u001b[38;5;241m1\u001b[39m, \u001b[38;5;241m1\u001b[39m, \u001b[38;5;241m0\u001b[39m, \u001b[38;5;241m10\u001b[39m)\n",
      "File \u001b[0;32m~/work/projects/morphology-tests/tests/../galaxy_generator.py:452\u001b[0m, in \u001b[0;36msimuale_perfect_galaxy\u001b[0;34m(mag, r_eff, pxscale, fov_reff, sersic_n, q, beta, n_clumps, clump_properties, random_clump_properties)\u001b[0m\n\u001b[1;32m    450\u001b[0m \u001b[38;5;28mprint\u001b[39m(bandpass_file)\n\u001b[1;32m    451\u001b[0m bandpass_file \u001b[38;5;241m=\u001b[39m \u001b[38;5;124m\"\u001b[39m\u001b[38;5;124mpassband_sdss_\u001b[39m\u001b[38;5;124m\"\u001b[39m \u001b[38;5;241m+\u001b[39m filt\n\u001b[0;32m--> 452\u001b[0m bandpass \u001b[38;5;241m=\u001b[39m galsim\u001b[38;5;241m.\u001b[39mBandpass(bandpass_file, wave_type \u001b[38;5;241m=\u001b[39m u\u001b[38;5;241m.\u001b[39mangstrom)\n\u001b[1;32m    453\u001b[0m \u001b[38;5;28mprint\u001b[39m(bandpass)\n\u001b[1;32m    454\u001b[0m \u001b[38;5;66;03m## gain, exptime and diameter of telescope\u001b[39;00m\n",
      "File \u001b[0;32m~/miniconda3/envs/astro/lib/python3.11/site-packages/galsim/bandpass.py:146\u001b[0m, in \u001b[0;36mBandpass.__init__\u001b[0;34m(self, throughput, wave_type, blue_limit, red_limit, zeropoint, _wave_list, _tp)\u001b[0m\n\u001b[1;32m    143\u001b[0m         \u001b[38;5;28;01mraise\u001b[39;00m GalSimValueError(\u001b[38;5;124m\"\u001b[39m\u001b[38;5;124mInvalid wave_type.  Must be a distance.\u001b[39m\u001b[38;5;124m\"\u001b[39m, wave_type)\n\u001b[1;32m    145\u001b[0m \u001b[38;5;66;03m# Convert string input into a real function (possibly a LookupTable)\u001b[39;00m\n\u001b[0;32m--> 146\u001b[0m \u001b[38;5;28mself\u001b[39m\u001b[38;5;241m.\u001b[39m_initialize_tp()\n\u001b[1;32m    148\u001b[0m \u001b[38;5;28;01mif\u001b[39;00m _wave_list \u001b[38;5;129;01mis\u001b[39;00m \u001b[38;5;129;01mnot\u001b[39;00m \u001b[38;5;28;01mNone\u001b[39;00m:\n\u001b[1;32m    149\u001b[0m     \u001b[38;5;66;03m# Manual override!  Be careful!\u001b[39;00m\n\u001b[1;32m    150\u001b[0m     \u001b[38;5;28mself\u001b[39m\u001b[38;5;241m.\u001b[39mwave_list \u001b[38;5;241m=\u001b[39m _wave_list\n",
      "File \u001b[0;32m~/miniconda3/envs/astro/lib/python3.11/site-packages/galsim/bandpass.py:224\u001b[0m, in \u001b[0;36mBandpass._initialize_tp\u001b[0;34m(self)\u001b[0m\n\u001b[1;32m    222\u001b[0m \u001b[38;5;28;01melse\u001b[39;00m:\n\u001b[1;32m    223\u001b[0m     \u001b[38;5;28;01mif\u001b[39;00m \u001b[38;5;28mself\u001b[39m\u001b[38;5;241m.\u001b[39mblue_limit \u001b[38;5;129;01mis\u001b[39;00m \u001b[38;5;28;01mNone\u001b[39;00m \u001b[38;5;129;01mor\u001b[39;00m \u001b[38;5;28mself\u001b[39m\u001b[38;5;241m.\u001b[39mred_limit \u001b[38;5;129;01mis\u001b[39;00m \u001b[38;5;28;01mNone\u001b[39;00m:\n\u001b[0;32m--> 224\u001b[0m         \u001b[38;5;28;01mraise\u001b[39;00m GalSimIncompatibleValuesError(\n\u001b[1;32m    225\u001b[0m             \u001b[38;5;124m\"\u001b[39m\u001b[38;5;124mred_limit and blue_limit are required if throughput is not a LookupTable.\u001b[39m\u001b[38;5;124m\"\u001b[39m,\n\u001b[1;32m    226\u001b[0m             blue_limit\u001b[38;5;241m=\u001b[39m\u001b[38;5;28;01mNone\u001b[39;00m, red_limit\u001b[38;5;241m=\u001b[39m\u001b[38;5;28;01mNone\u001b[39;00m, throughput\u001b[38;5;241m=\u001b[39m\u001b[38;5;28mself\u001b[39m\u001b[38;5;241m.\u001b[39m_orig_tp)\n\u001b[1;32m    227\u001b[0m     test_wave \u001b[38;5;241m=\u001b[39m \u001b[38;5;28mself\u001b[39m\u001b[38;5;241m.\u001b[39mblue_limit\n\u001b[1;32m    228\u001b[0m     \u001b[38;5;28;01mtry\u001b[39;00m:\n",
      "\u001b[0;31mGalSimIncompatibleValuesError\u001b[0m: red_limit and blue_limit are required if throughput is not a LookupTable. Values {'blue_limit': None, 'red_limit': None, 'throughput': 'passband_sdss_r'}"
     ]
    }
   ],
   "source": [
    "perfect_img, params, rpet = simuale_perfect_galaxy(15, 5, 0.3, 21, 1, 1, 0, 10)"
   ]
  },
  {
   "cell_type": "code",
   "execution_count": null,
   "id": "daa7de36-f845-4556-8fdc-0ae954db72e4",
   "metadata": {},
   "outputs": [],
   "source": []
  }
 ],
 "metadata": {
  "kernelspec": {
   "display_name": "Python 3 (ipykernel)",
   "language": "python",
   "name": "python3"
  },
  "language_info": {
   "codemirror_mode": {
    "name": "ipython",
    "version": 3
   },
   "file_extension": ".py",
   "mimetype": "text/x-python",
   "name": "python",
   "nbconvert_exporter": "python",
   "pygments_lexer": "ipython3",
   "version": "3.11.4"
  }
 },
 "nbformat": 4,
 "nbformat_minor": 5
}
